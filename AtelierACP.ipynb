{
 "cells": [
  {
   "cell_type": "markdown",
   "metadata": {
    "id": "vl5cpjGPBssI"
   },
   "source": [
    "Chargement des données: Ces données sur les voitures proviennent de la magazine \"the 1974 Motor Trend US\""
   ]
  },
  {
   "cell_type": "code",
   "execution_count": 2,
   "metadata": {
    "colab": {
     "base_uri": "https://localhost:8080/",
     "height": 378
    },
    "executionInfo": {
     "elapsed": 3584,
     "status": "error",
     "timestamp": 1615285777896,
     "user": {
      "displayName": "Cyrine CHABENNE",
      "photoUrl": "https://lh3.googleusercontent.com/a-/AOh14Gis75gdtA-BRnm5eTA8eY9OTm-pG1lqNvkDyQKu=s64",
      "userId": "09225014525947092658"
     },
     "user_tz": -60
    },
    "id": "MG65g6YDfGVQ",
    "outputId": "419a0c34-bee3-410a-847b-634f78fa2083"
   },
   "outputs": [
    {
     "data": {
      "text/html": [
       "\n",
       "     <input type=\"file\" id=\"files-9d4a0dc3-91ad-4863-90cd-39435576039f\" name=\"files[]\" multiple disabled\n",
       "        style=\"border:none\" />\n",
       "     <output id=\"result-9d4a0dc3-91ad-4863-90cd-39435576039f\">\n",
       "      Upload widget is only available when the cell has been executed in the\n",
       "      current browser session. Please rerun this cell to enable.\n",
       "      </output>\n",
       "      <script src=\"/nbextensions/google.colab/files.js\"></script> "
      ],
      "text/plain": [
       "<IPython.core.display.HTML object>"
      ]
     },
     "metadata": {
      "tags": []
     },
     "output_type": "display_data"
    },
    {
     "ename": "MessageError",
     "evalue": "ignored",
     "output_type": "error",
     "traceback": [
      "\u001b[0;31m---------------------------------------------------------------------------\u001b[0m",
      "\u001b[0;31mMessageError\u001b[0m                              Traceback (most recent call last)",
      "\u001b[0;32m<ipython-input-2-3d23274689dc>\u001b[0m in \u001b[0;36m<module>\u001b[0;34m()\u001b[0m\n\u001b[1;32m      1\u001b[0m \u001b[0;31m#Chargement des données_Première façon\u001b[0m\u001b[0;34m\u001b[0m\u001b[0;34m\u001b[0m\u001b[0;34m\u001b[0m\u001b[0m\n\u001b[1;32m      2\u001b[0m \u001b[0;32mfrom\u001b[0m \u001b[0mgoogle\u001b[0m\u001b[0;34m.\u001b[0m\u001b[0mcolab\u001b[0m \u001b[0;32mimport\u001b[0m \u001b[0mfiles\u001b[0m\u001b[0;34m\u001b[0m\u001b[0;34m\u001b[0m\u001b[0m\n\u001b[0;32m----> 3\u001b[0;31m \u001b[0muploaded\u001b[0m \u001b[0;34m=\u001b[0m \u001b[0mfiles\u001b[0m\u001b[0;34m.\u001b[0m\u001b[0mupload\u001b[0m\u001b[0;34m(\u001b[0m\u001b[0;34m)\u001b[0m\u001b[0;34m\u001b[0m\u001b[0;34m\u001b[0m\u001b[0m\n\u001b[0m",
      "\u001b[0;32m/usr/local/lib/python3.7/dist-packages/google/colab/files.py\u001b[0m in \u001b[0;36mupload\u001b[0;34m()\u001b[0m\n\u001b[1;32m     62\u001b[0m   result = _output.eval_js(\n\u001b[1;32m     63\u001b[0m       'google.colab._files._uploadFiles(\"{input_id}\", \"{output_id}\")'.format(\n\u001b[0;32m---> 64\u001b[0;31m           input_id=input_id, output_id=output_id))\n\u001b[0m\u001b[1;32m     65\u001b[0m   \u001b[0mfiles\u001b[0m \u001b[0;34m=\u001b[0m \u001b[0m_collections\u001b[0m\u001b[0;34m.\u001b[0m\u001b[0mdefaultdict\u001b[0m\u001b[0;34m(\u001b[0m\u001b[0m_six\u001b[0m\u001b[0;34m.\u001b[0m\u001b[0mbinary_type\u001b[0m\u001b[0;34m)\u001b[0m\u001b[0;34m\u001b[0m\u001b[0;34m\u001b[0m\u001b[0m\n\u001b[1;32m     66\u001b[0m   \u001b[0;31m# Mapping from original filename to filename as saved locally.\u001b[0m\u001b[0;34m\u001b[0m\u001b[0;34m\u001b[0m\u001b[0;34m\u001b[0m\u001b[0m\n",
      "\u001b[0;32m/usr/local/lib/python3.7/dist-packages/google/colab/output/_js.py\u001b[0m in \u001b[0;36meval_js\u001b[0;34m(script, ignore_result, timeout_sec)\u001b[0m\n\u001b[1;32m     38\u001b[0m   \u001b[0;32mif\u001b[0m \u001b[0mignore_result\u001b[0m\u001b[0;34m:\u001b[0m\u001b[0;34m\u001b[0m\u001b[0;34m\u001b[0m\u001b[0m\n\u001b[1;32m     39\u001b[0m     \u001b[0;32mreturn\u001b[0m\u001b[0;34m\u001b[0m\u001b[0;34m\u001b[0m\u001b[0m\n\u001b[0;32m---> 40\u001b[0;31m   \u001b[0;32mreturn\u001b[0m \u001b[0m_message\u001b[0m\u001b[0;34m.\u001b[0m\u001b[0mread_reply_from_input\u001b[0m\u001b[0;34m(\u001b[0m\u001b[0mrequest_id\u001b[0m\u001b[0;34m,\u001b[0m \u001b[0mtimeout_sec\u001b[0m\u001b[0;34m)\u001b[0m\u001b[0;34m\u001b[0m\u001b[0;34m\u001b[0m\u001b[0m\n\u001b[0m\u001b[1;32m     41\u001b[0m \u001b[0;34m\u001b[0m\u001b[0m\n\u001b[1;32m     42\u001b[0m \u001b[0;34m\u001b[0m\u001b[0m\n",
      "\u001b[0;32m/usr/local/lib/python3.7/dist-packages/google/colab/_message.py\u001b[0m in \u001b[0;36mread_reply_from_input\u001b[0;34m(message_id, timeout_sec)\u001b[0m\n\u001b[1;32m    104\u001b[0m         reply.get('colab_msg_id') == message_id):\n\u001b[1;32m    105\u001b[0m       \u001b[0;32mif\u001b[0m \u001b[0;34m'error'\u001b[0m \u001b[0;32min\u001b[0m \u001b[0mreply\u001b[0m\u001b[0;34m:\u001b[0m\u001b[0;34m\u001b[0m\u001b[0;34m\u001b[0m\u001b[0m\n\u001b[0;32m--> 106\u001b[0;31m         \u001b[0;32mraise\u001b[0m \u001b[0mMessageError\u001b[0m\u001b[0;34m(\u001b[0m\u001b[0mreply\u001b[0m\u001b[0;34m[\u001b[0m\u001b[0;34m'error'\u001b[0m\u001b[0;34m]\u001b[0m\u001b[0;34m)\u001b[0m\u001b[0;34m\u001b[0m\u001b[0;34m\u001b[0m\u001b[0m\n\u001b[0m\u001b[1;32m    107\u001b[0m       \u001b[0;32mreturn\u001b[0m \u001b[0mreply\u001b[0m\u001b[0;34m.\u001b[0m\u001b[0mget\u001b[0m\u001b[0;34m(\u001b[0m\u001b[0;34m'data'\u001b[0m\u001b[0;34m,\u001b[0m \u001b[0;32mNone\u001b[0m\u001b[0;34m)\u001b[0m\u001b[0;34m\u001b[0m\u001b[0;34m\u001b[0m\u001b[0m\n\u001b[1;32m    108\u001b[0m \u001b[0;34m\u001b[0m\u001b[0m\n",
      "\u001b[0;31mMessageError\u001b[0m: TypeError: Cannot read property '_uploadFiles' of undefined"
     ]
    }
   ],
   "source": [
    "#Chargement des données_Première façon\n",
    "from google.colab import files\n",
    "uploaded = files.upload()"
   ]
  },
  {
   "cell_type": "code",
   "execution_count": 3,
   "metadata": {
    "colab": {
     "base_uri": "https://localhost:8080/",
     "height": 527
    },
    "executionInfo": {
     "elapsed": 3629,
     "status": "error",
     "timestamp": 1615285866849,
     "user": {
      "displayName": "Cyrine CHABENNE",
      "photoUrl": "https://lh3.googleusercontent.com/a-/AOh14Gis75gdtA-BRnm5eTA8eY9OTm-pG1lqNvkDyQKu=s64",
      "userId": "09225014525947092658"
     },
     "user_tz": -60
    },
    "id": "pLCwYl7viZbY",
    "outputId": "68a2448e-5c4b-4d12-f8d8-e8f3d8088a92"
   },
   "outputs": [
    {
     "ename": "KeyboardInterrupt",
     "evalue": "ignored",
     "output_type": "error",
     "traceback": [
      "\u001b[0;31m---------------------------------------------------------------------------\u001b[0m",
      "\u001b[0;31mKeyboardInterrupt\u001b[0m                         Traceback (most recent call last)",
      "\u001b[0;32m/usr/local/lib/python3.7/dist-packages/ipykernel/kernelbase.py\u001b[0m in \u001b[0;36m_input_request\u001b[0;34m(self, prompt, ident, parent, password)\u001b[0m\n\u001b[1;32m    728\u001b[0m             \u001b[0;32mtry\u001b[0m\u001b[0;34m:\u001b[0m\u001b[0;34m\u001b[0m\u001b[0;34m\u001b[0m\u001b[0m\n\u001b[0;32m--> 729\u001b[0;31m                 \u001b[0mident\u001b[0m\u001b[0;34m,\u001b[0m \u001b[0mreply\u001b[0m \u001b[0;34m=\u001b[0m \u001b[0mself\u001b[0m\u001b[0;34m.\u001b[0m\u001b[0msession\u001b[0m\u001b[0;34m.\u001b[0m\u001b[0mrecv\u001b[0m\u001b[0;34m(\u001b[0m\u001b[0mself\u001b[0m\u001b[0;34m.\u001b[0m\u001b[0mstdin_socket\u001b[0m\u001b[0;34m,\u001b[0m \u001b[0;36m0\u001b[0m\u001b[0;34m)\u001b[0m\u001b[0;34m\u001b[0m\u001b[0;34m\u001b[0m\u001b[0m\n\u001b[0m\u001b[1;32m    730\u001b[0m             \u001b[0;32mexcept\u001b[0m \u001b[0mException\u001b[0m\u001b[0;34m:\u001b[0m\u001b[0;34m\u001b[0m\u001b[0;34m\u001b[0m\u001b[0m\n",
      "\u001b[0;32m/usr/local/lib/python3.7/dist-packages/jupyter_client/session.py\u001b[0m in \u001b[0;36mrecv\u001b[0;34m(self, socket, mode, content, copy)\u001b[0m\n\u001b[1;32m    802\u001b[0m         \u001b[0;32mtry\u001b[0m\u001b[0;34m:\u001b[0m\u001b[0;34m\u001b[0m\u001b[0;34m\u001b[0m\u001b[0m\n\u001b[0;32m--> 803\u001b[0;31m             \u001b[0mmsg_list\u001b[0m \u001b[0;34m=\u001b[0m \u001b[0msocket\u001b[0m\u001b[0;34m.\u001b[0m\u001b[0mrecv_multipart\u001b[0m\u001b[0;34m(\u001b[0m\u001b[0mmode\u001b[0m\u001b[0;34m,\u001b[0m \u001b[0mcopy\u001b[0m\u001b[0;34m=\u001b[0m\u001b[0mcopy\u001b[0m\u001b[0;34m)\u001b[0m\u001b[0;34m\u001b[0m\u001b[0;34m\u001b[0m\u001b[0m\n\u001b[0m\u001b[1;32m    804\u001b[0m         \u001b[0;32mexcept\u001b[0m \u001b[0mzmq\u001b[0m\u001b[0;34m.\u001b[0m\u001b[0mZMQError\u001b[0m \u001b[0;32mas\u001b[0m \u001b[0me\u001b[0m\u001b[0;34m:\u001b[0m\u001b[0;34m\u001b[0m\u001b[0;34m\u001b[0m\u001b[0m\n",
      "\u001b[0;32m/usr/local/lib/python3.7/dist-packages/zmq/sugar/socket.py\u001b[0m in \u001b[0;36mrecv_multipart\u001b[0;34m(self, flags, copy, track)\u001b[0m\n\u001b[1;32m    582\u001b[0m         \"\"\"\n\u001b[0;32m--> 583\u001b[0;31m         \u001b[0mparts\u001b[0m \u001b[0;34m=\u001b[0m \u001b[0;34m[\u001b[0m\u001b[0mself\u001b[0m\u001b[0;34m.\u001b[0m\u001b[0mrecv\u001b[0m\u001b[0;34m(\u001b[0m\u001b[0mflags\u001b[0m\u001b[0;34m,\u001b[0m \u001b[0mcopy\u001b[0m\u001b[0;34m=\u001b[0m\u001b[0mcopy\u001b[0m\u001b[0;34m,\u001b[0m \u001b[0mtrack\u001b[0m\u001b[0;34m=\u001b[0m\u001b[0mtrack\u001b[0m\u001b[0;34m)\u001b[0m\u001b[0;34m]\u001b[0m\u001b[0;34m\u001b[0m\u001b[0;34m\u001b[0m\u001b[0m\n\u001b[0m\u001b[1;32m    584\u001b[0m         \u001b[0;31m# have first part already, only loop while more to receive\u001b[0m\u001b[0;34m\u001b[0m\u001b[0;34m\u001b[0m\u001b[0;34m\u001b[0m\u001b[0m\n",
      "\u001b[0;32mzmq/backend/cython/socket.pyx\u001b[0m in \u001b[0;36mzmq.backend.cython.socket.Socket.recv\u001b[0;34m()\u001b[0m\n",
      "\u001b[0;32mzmq/backend/cython/socket.pyx\u001b[0m in \u001b[0;36mzmq.backend.cython.socket.Socket.recv\u001b[0;34m()\u001b[0m\n",
      "\u001b[0;32mzmq/backend/cython/socket.pyx\u001b[0m in \u001b[0;36mzmq.backend.cython.socket._recv_copy\u001b[0;34m()\u001b[0m\n",
      "\u001b[0;32m/usr/local/lib/python3.7/dist-packages/zmq/backend/cython/checkrc.pxd\u001b[0m in \u001b[0;36mzmq.backend.cython.checkrc._check_rc\u001b[0;34m()\u001b[0m\n",
      "\u001b[0;31mKeyboardInterrupt\u001b[0m: ",
      "\nDuring handling of the above exception, another exception occurred:\n",
      "\u001b[0;31mKeyboardInterrupt\u001b[0m                         Traceback (most recent call last)",
      "\u001b[0;32m<ipython-input-3-d5df0069828e>\u001b[0m in \u001b[0;36m<module>\u001b[0;34m()\u001b[0m\n\u001b[1;32m      1\u001b[0m \u001b[0;32mfrom\u001b[0m \u001b[0mgoogle\u001b[0m\u001b[0;34m.\u001b[0m\u001b[0mcolab\u001b[0m \u001b[0;32mimport\u001b[0m \u001b[0mdrive\u001b[0m\u001b[0;34m\u001b[0m\u001b[0;34m\u001b[0m\u001b[0m\n\u001b[0;32m----> 2\u001b[0;31m \u001b[0mdrive\u001b[0m\u001b[0;34m.\u001b[0m\u001b[0mmount\u001b[0m\u001b[0;34m(\u001b[0m\u001b[0;34m'/content/drive'\u001b[0m\u001b[0;34m)\u001b[0m\u001b[0;34m\u001b[0m\u001b[0;34m\u001b[0m\u001b[0m\n\u001b[0m",
      "\u001b[0;32m/usr/local/lib/python3.7/dist-packages/google/colab/drive.py\u001b[0m in \u001b[0;36mmount\u001b[0;34m(mountpoint, force_remount, timeout_ms, use_metadata_server)\u001b[0m\n\u001b[1;32m    260\u001b[0m       \u001b[0;32mwith\u001b[0m \u001b[0m_output\u001b[0m\u001b[0;34m.\u001b[0m\u001b[0muse_tags\u001b[0m\u001b[0;34m(\u001b[0m\u001b[0;34m'dfs-auth-dance'\u001b[0m\u001b[0;34m)\u001b[0m\u001b[0;34m:\u001b[0m\u001b[0;34m\u001b[0m\u001b[0;34m\u001b[0m\u001b[0m\n\u001b[1;32m    261\u001b[0m         \u001b[0;32mwith\u001b[0m \u001b[0mopen\u001b[0m\u001b[0;34m(\u001b[0m\u001b[0mfifo\u001b[0m\u001b[0;34m,\u001b[0m \u001b[0;34m'w'\u001b[0m\u001b[0;34m)\u001b[0m \u001b[0;32mas\u001b[0m \u001b[0mfifo_file\u001b[0m\u001b[0;34m:\u001b[0m\u001b[0;34m\u001b[0m\u001b[0;34m\u001b[0m\u001b[0m\n\u001b[0;32m--> 262\u001b[0;31m           \u001b[0mfifo_file\u001b[0m\u001b[0;34m.\u001b[0m\u001b[0mwrite\u001b[0m\u001b[0;34m(\u001b[0m\u001b[0mget_code\u001b[0m\u001b[0;34m(\u001b[0m\u001b[0mauth_prompt\u001b[0m\u001b[0;34m)\u001b[0m \u001b[0;34m+\u001b[0m \u001b[0;34m'\\n'\u001b[0m\u001b[0;34m)\u001b[0m\u001b[0;34m\u001b[0m\u001b[0;34m\u001b[0m\u001b[0m\n\u001b[0m\u001b[1;32m    263\u001b[0m       \u001b[0mwrote_to_fifo\u001b[0m \u001b[0;34m=\u001b[0m \u001b[0;32mTrue\u001b[0m\u001b[0;34m\u001b[0m\u001b[0;34m\u001b[0m\u001b[0m\n\u001b[1;32m    264\u001b[0m     \u001b[0;32melif\u001b[0m \u001b[0mcase\u001b[0m \u001b[0;34m==\u001b[0m \u001b[0;36m5\u001b[0m\u001b[0;34m:\u001b[0m\u001b[0;34m\u001b[0m\u001b[0;34m\u001b[0m\u001b[0m\n",
      "\u001b[0;32m/usr/local/lib/python3.7/dist-packages/ipykernel/kernelbase.py\u001b[0m in \u001b[0;36mraw_input\u001b[0;34m(self, prompt)\u001b[0m\n\u001b[1;32m    702\u001b[0m             \u001b[0mself\u001b[0m\u001b[0;34m.\u001b[0m\u001b[0m_parent_ident\u001b[0m\u001b[0;34m,\u001b[0m\u001b[0;34m\u001b[0m\u001b[0;34m\u001b[0m\u001b[0m\n\u001b[1;32m    703\u001b[0m             \u001b[0mself\u001b[0m\u001b[0;34m.\u001b[0m\u001b[0m_parent_header\u001b[0m\u001b[0;34m,\u001b[0m\u001b[0;34m\u001b[0m\u001b[0;34m\u001b[0m\u001b[0m\n\u001b[0;32m--> 704\u001b[0;31m             \u001b[0mpassword\u001b[0m\u001b[0;34m=\u001b[0m\u001b[0;32mFalse\u001b[0m\u001b[0;34m,\u001b[0m\u001b[0;34m\u001b[0m\u001b[0;34m\u001b[0m\u001b[0m\n\u001b[0m\u001b[1;32m    705\u001b[0m         )\n\u001b[1;32m    706\u001b[0m \u001b[0;34m\u001b[0m\u001b[0m\n",
      "\u001b[0;32m/usr/local/lib/python3.7/dist-packages/ipykernel/kernelbase.py\u001b[0m in \u001b[0;36m_input_request\u001b[0;34m(self, prompt, ident, parent, password)\u001b[0m\n\u001b[1;32m    732\u001b[0m             \u001b[0;32mexcept\u001b[0m \u001b[0mKeyboardInterrupt\u001b[0m\u001b[0;34m:\u001b[0m\u001b[0;34m\u001b[0m\u001b[0;34m\u001b[0m\u001b[0m\n\u001b[1;32m    733\u001b[0m                 \u001b[0;31m# re-raise KeyboardInterrupt, to truncate traceback\u001b[0m\u001b[0;34m\u001b[0m\u001b[0;34m\u001b[0m\u001b[0;34m\u001b[0m\u001b[0m\n\u001b[0;32m--> 734\u001b[0;31m                 \u001b[0;32mraise\u001b[0m \u001b[0mKeyboardInterrupt\u001b[0m\u001b[0;34m\u001b[0m\u001b[0;34m\u001b[0m\u001b[0m\n\u001b[0m\u001b[1;32m    735\u001b[0m             \u001b[0;32melse\u001b[0m\u001b[0;34m:\u001b[0m\u001b[0;34m\u001b[0m\u001b[0;34m\u001b[0m\u001b[0m\n\u001b[1;32m    736\u001b[0m                 \u001b[0;32mbreak\u001b[0m\u001b[0;34m\u001b[0m\u001b[0;34m\u001b[0m\u001b[0m\n",
      "\u001b[0;31mKeyboardInterrupt\u001b[0m: "
     ]
    }
   ],
   "source": [
    "from google.colab import drive\n",
    "drive.mount('/content/drive')"
   ]
  },
  {
   "cell_type": "code",
   "execution_count": null,
   "metadata": {
    "id": "eMGkWOkr9oOF"
   },
   "outputs": [],
   "source": [
    "##Chargement des données_Deuxième façon\n",
    "\n",
    "#import pandas as pd\n",
    "#import CSV Cars\n",
    "#X = pd.read_csv('Cars.csv')\n"
   ]
  },
  {
   "cell_type": "code",
   "execution_count": null,
   "metadata": {
    "colab": {
     "base_uri": "https://localhost:8080/",
     "height": 228
    },
    "id": "zDvrEFk2fYOj",
    "outputId": "943c5ba2-92e5-438f-ae44-6ed043fe09eb"
   },
   "outputs": [
    {
     "data": {
      "text/html": [
       "<div>\n",
       "<style scoped>\n",
       "    .dataframe tbody tr th:only-of-type {\n",
       "        vertical-align: middle;\n",
       "    }\n",
       "\n",
       "    .dataframe tbody tr th {\n",
       "        vertical-align: top;\n",
       "    }\n",
       "\n",
       "    .dataframe thead th {\n",
       "        text-align: right;\n",
       "    }\n",
       "</style>\n",
       "<table border=\"1\" class=\"dataframe\">\n",
       "  <thead>\n",
       "    <tr style=\"text-align: right;\">\n",
       "      <th></th>\n",
       "      <th>mpg</th>\n",
       "      <th>cyl</th>\n",
       "      <th>disp</th>\n",
       "      <th>hp</th>\n",
       "      <th>drat</th>\n",
       "      <th>wt</th>\n",
       "      <th>qsec</th>\n",
       "      <th>vs</th>\n",
       "      <th>am</th>\n",
       "      <th>gear</th>\n",
       "      <th>carb</th>\n",
       "    </tr>\n",
       "    <tr>\n",
       "      <th>model</th>\n",
       "      <th></th>\n",
       "      <th></th>\n",
       "      <th></th>\n",
       "      <th></th>\n",
       "      <th></th>\n",
       "      <th></th>\n",
       "      <th></th>\n",
       "      <th></th>\n",
       "      <th></th>\n",
       "      <th></th>\n",
       "      <th></th>\n",
       "    </tr>\n",
       "  </thead>\n",
       "  <tbody>\n",
       "    <tr>\n",
       "      <th>Mazda RX4</th>\n",
       "      <td>21.0</td>\n",
       "      <td>6</td>\n",
       "      <td>160.0</td>\n",
       "      <td>110</td>\n",
       "      <td>3.90</td>\n",
       "      <td>2.620</td>\n",
       "      <td>16.46</td>\n",
       "      <td>0</td>\n",
       "      <td>1</td>\n",
       "      <td>4</td>\n",
       "      <td>4</td>\n",
       "    </tr>\n",
       "    <tr>\n",
       "      <th>Mazda RX4 Wag</th>\n",
       "      <td>21.0</td>\n",
       "      <td>6</td>\n",
       "      <td>160.0</td>\n",
       "      <td>110</td>\n",
       "      <td>3.90</td>\n",
       "      <td>2.875</td>\n",
       "      <td>17.02</td>\n",
       "      <td>0</td>\n",
       "      <td>1</td>\n",
       "      <td>4</td>\n",
       "      <td>4</td>\n",
       "    </tr>\n",
       "    <tr>\n",
       "      <th>Datsun 710</th>\n",
       "      <td>22.8</td>\n",
       "      <td>4</td>\n",
       "      <td>108.0</td>\n",
       "      <td>93</td>\n",
       "      <td>3.85</td>\n",
       "      <td>2.320</td>\n",
       "      <td>18.61</td>\n",
       "      <td>1</td>\n",
       "      <td>1</td>\n",
       "      <td>4</td>\n",
       "      <td>1</td>\n",
       "    </tr>\n",
       "    <tr>\n",
       "      <th>Hornet 4 Drive</th>\n",
       "      <td>21.4</td>\n",
       "      <td>6</td>\n",
       "      <td>258.0</td>\n",
       "      <td>110</td>\n",
       "      <td>3.08</td>\n",
       "      <td>3.215</td>\n",
       "      <td>19.44</td>\n",
       "      <td>1</td>\n",
       "      <td>0</td>\n",
       "      <td>3</td>\n",
       "      <td>1</td>\n",
       "    </tr>\n",
       "    <tr>\n",
       "      <th>Hornet Sportabout</th>\n",
       "      <td>18.7</td>\n",
       "      <td>8</td>\n",
       "      <td>360.0</td>\n",
       "      <td>175</td>\n",
       "      <td>3.15</td>\n",
       "      <td>3.440</td>\n",
       "      <td>17.02</td>\n",
       "      <td>0</td>\n",
       "      <td>0</td>\n",
       "      <td>3</td>\n",
       "      <td>2</td>\n",
       "    </tr>\n",
       "  </tbody>\n",
       "</table>\n",
       "</div>"
      ],
      "text/plain": [
       "                    mpg  cyl   disp   hp  drat  ...   qsec  vs  am  gear  carb\n",
       "model                                           ...                           \n",
       "Mazda RX4          21.0    6  160.0  110  3.90  ...  16.46   0   1     4     4\n",
       "Mazda RX4 Wag      21.0    6  160.0  110  3.90  ...  17.02   0   1     4     4\n",
       "Datsun 710         22.8    4  108.0   93  3.85  ...  18.61   1   1     4     1\n",
       "Hornet 4 Drive     21.4    6  258.0  110  3.08  ...  19.44   1   0     3     1\n",
       "Hornet Sportabout  18.7    8  360.0  175  3.15  ...  17.02   0   0     3     2\n",
       "\n",
       "[5 rows x 11 columns]"
      ]
     },
     "execution_count": 24,
     "metadata": {
      "tags": []
     },
     "output_type": "execute_result"
    }
   ],
   "source": [
    "import pandas as pd\n",
    "import io\n",
    "#import required libraries\n",
    "import numpy \n",
    "import matplotlib.pyplot as plt\n",
    "\n",
    "X = pd.read_csv(io.StringIO(uploaded['Cars.csv'].decode('utf-8')),header=0,index_col=0)\n",
    "#Affichage des 5 premières lignes\n",
    "X.head()"
   ]
  },
  {
   "cell_type": "markdown",
   "metadata": {
    "id": "blYes5tN__wz"
   },
   "source": [
    "![Descriptif.jpg](data:image/jpeg;base64,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)"
   ]
  },
  {
   "cell_type": "code",
   "execution_count": null,
   "metadata": {
    "colab": {
     "base_uri": "https://localhost:8080/"
    },
    "id": "Oj7dR3HvfolY",
    "outputId": "78167363-2f28-4d75-9e35-4dd8edc37dc8"
   },
   "outputs": [
    {
     "name": "stdout",
     "output_type": "stream",
     "text": [
      "(32, 11)\n"
     ]
    }
   ],
   "source": [
    "X.keys()\n",
    "print(X.shape) \n",
    "#nombre d'observations/lignes\n",
    "n = X.shape[0]\n",
    "#nombre de variables/colonnes\n",
    "p = X.shape[1]\n"
   ]
  },
  {
   "cell_type": "markdown",
   "metadata": {
    "id": "0YsjUnA7hzOA"
   },
   "source": [
    "La plupart du temps, en machine Learning, les données Set proviennent avec des ordres de grandeurs différents. Cette différence d’échelle peut conduire à des performances moindres. Pour palier à cela, des traitements préparatoires sur les données existent. Notamment le Feature Scaling qui comprend la Standardisation (z-score normalisation) et la Normalisation(Min-Max scaling)."
   ]
  },
  {
   "cell_type": "markdown",
   "metadata": {
    "id": "sC8EBv6UEo0c"
   },
   "source": [
    "Maintenant, nous faison un centrage réduction des données pour réaliser une ACP normée avec PCA. Pour ce faire, nous utilisons la Ttechnique de standardisation (classe StandardScaler) .\n",
    "Nous instancions l’objet et nous l’appliquons sur la matrice X. Nous obtenons une matrice Z\n",
    "![Descriptif.jpg](data:image/jpeg;base64,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)"
   ]
  },
  {
   "cell_type": "code",
   "execution_count": null,
   "metadata": {
    "id": "GjoFNMSufyK-"
   },
   "outputs": [],
   "source": [
    "from sklearn.preprocessing import StandardScaler\n",
    "#https://mrmint.fr/data-preprocessing-feature-scaling-python\n"
   ]
  },
  {
   "cell_type": "code",
   "execution_count": null,
   "metadata": {
    "colab": {
     "base_uri": "https://localhost:8080/"
    },
    "id": "CYP7K6NmhPQY",
    "outputId": "8dd997ab-9154-4d36-ebb2-ea4da09459fd"
   },
   "outputs": [
    {
     "name": "stdout",
     "output_type": "stream",
     "text": [
      "[[ 1.53299135e-01 -1.06667720e-01 -5.79750316e-01 -5.43654869e-01\n",
      "   5.76594481e-01 -6.20166581e-01 -7.89600577e-01 -8.81917104e-01\n",
      "   1.20894105e+00  4.30331483e-01  7.46967077e-01]\n",
      " [ 1.53299135e-01 -1.06667720e-01 -5.79750316e-01 -5.43654869e-01\n",
      "   5.76594481e-01 -3.55382189e-01 -4.71201785e-01 -8.81917104e-01\n",
      "   1.20894105e+00  4.30331483e-01  7.46967077e-01]\n",
      " [ 4.56736599e-01 -1.24445674e+00 -1.00602601e+00 -7.95569902e-01\n",
      "   4.81584062e-01 -9.31677630e-01  4.32823359e-01  1.13389342e+00\n",
      "   1.20894105e+00  4.30331483e-01 -1.14010764e+00]\n",
      " [ 2.20729683e-01 -1.06667720e-01  2.23615417e-01 -5.43654869e-01\n",
      "  -9.81576392e-01 -2.33633287e-03  9.04735855e-01  1.13389342e+00\n",
      "  -8.27170192e-01 -9.46729262e-01 -1.14010764e+00]\n",
      " [-2.34426513e-01  1.03112130e+00  1.05977159e+00  4.19549669e-01\n",
      "  -8.48561806e-01  2.31296954e-01 -4.71201785e-01 -8.81917104e-01\n",
      "  -8.27170192e-01 -9.46729262e-01 -5.11082737e-01]\n",
      " [-3.35572334e-01 -1.06667720e-01 -4.69056970e-02 -6.17747526e-01\n",
      "  -1.58964307e+00  2.52064357e-01  1.34821989e+00  1.13389342e+00\n",
      "  -8.27170192e-01 -9.46729262e-01 -1.14010764e+00]\n",
      " [-9.76162534e-01  1.03112130e+00  1.05977159e+00  1.45684686e+00\n",
      "  -7.34549303e-01  3.66285076e-01 -1.14211353e+00 -8.81917104e-01\n",
      "  -8.27170192e-01 -9.46729262e-01  7.46967077e-01]\n",
      " [ 7.26458788e-01 -1.24445674e+00 -6.88778522e-01 -1.25494437e+00\n",
      "   1.77550721e-01 -2.82955870e-02  1.22313465e+00  1.13389342e+00\n",
      "  -8.27170192e-01  4.30331483e-01 -5.11082737e-01]\n",
      " [ 4.56736599e-01 -1.24445674e+00 -7.37144418e-01 -7.65932839e-01\n",
      "   6.14598649e-01 -6.98303936e-02  2.87198554e+00  1.13389342e+00\n",
      "  -8.27170192e-01  4.30331483e-01 -5.11082737e-01]\n",
      " [-1.50138328e-01 -1.06667720e-01 -5.17448483e-01 -3.51013961e-01\n",
      "   6.14598649e-01  2.31296954e-01  2.56566884e-01  1.13389342e+00\n",
      "  -8.27170192e-01  4.30331483e-01  7.46967077e-01]\n",
      " [-3.86145244e-01 -1.06667720e-01 -5.17448483e-01 -3.51013961e-01\n",
      "   6.14598649e-01  2.31296954e-01  5.97708448e-01  1.13389342e+00\n",
      "  -8.27170192e-01  4.30331483e-01  7.46967077e-01]\n",
      " [-6.22152160e-01  1.03112130e+00  3.69532866e-01  4.93642326e-01\n",
      "  -1.00057848e+00  8.85470158e-01 -2.55145461e-01 -8.81917104e-01\n",
      "  -8.27170192e-01 -9.46729262e-01  1.17942170e-01]\n",
      " [-4.70433428e-01  1.03112130e+00  3.69532866e-01  4.93642326e-01\n",
      "  -1.00057848e+00  5.32424302e-01 -1.41431607e-01 -8.81917104e-01\n",
      "  -8.27170192e-01 -9.46729262e-01  1.17942170e-01]\n",
      " [-8.24443802e-01  1.03112130e+00  3.69532866e-01  4.93642326e-01\n",
      "  -1.00057848e+00  5.84342810e-01  8.59961025e-02 -8.81917104e-01\n",
      "  -8.27170192e-01 -9.46729262e-01  1.17942170e-01]\n",
      " [-1.63361037e+00  1.03112130e+00  1.97790385e+00  8.64105609e-01\n",
      "  -1.26660765e+00  2.11074695e+00  7.46247170e-02 -8.81917104e-01\n",
      "  -8.27170192e-01 -9.46729262e-01  7.46967077e-01]\n",
      " [-1.63361037e+00  1.03112130e+00  1.87953254e+00  1.01229092e+00\n",
      "  -1.13359306e+00  2.29142336e+00 -1.63463666e-02 -8.81917104e-01\n",
      "  -8.27170192e-01 -9.46729262e-01  7.46967077e-01]\n",
      " [-9.08731987e-01  1.03112130e+00  1.71558035e+00  1.23456889e+00\n",
      "  -6.96545135e-01  2.20939212e+00 -2.43774076e-01 -8.81917104e-01\n",
      "  -8.27170192e-01 -9.46729262e-01  7.46967077e-01]\n",
      " [ 2.07506974e+00 -1.24445674e+00 -1.24621597e+00 -1.19567025e+00\n",
      "   9.18631990e-01 -1.05628205e+00  9.21792933e-01  1.13389342e+00\n",
      "   1.20894105e+00  4.30331483e-01 -1.14010764e+00]\n",
      " [ 1.73791700e+00 -1.24445674e+00 -1.27080880e+00 -1.40312969e+00\n",
      "   2.53380911e+00 -1.66372860e+00  3.81652124e-01  1.13389342e+00\n",
      "   1.20894105e+00  4.30331483e-01 -5.11082737e-01]\n",
      " [ 2.32793429e+00 -1.24445674e+00 -1.30851780e+00 -1.21048878e+00\n",
      "   1.18466116e+00 -1.43528716e+00  1.16627772e+00  1.13389342e+00\n",
      "   1.20894105e+00  4.30331483e-01 -1.14010764e+00]\n",
      " [ 2.37587319e-01 -1.24445674e+00 -9.06834935e-01 -7.36295776e-01\n",
      "   1.96552805e-01 -7.81113956e-01  1.22882034e+00  1.13389342e+00\n",
      "  -8.27170192e-01 -9.46729262e-01 -1.14010764e+00]\n",
      " [-7.73870892e-01  1.03112130e+00  7.15471988e-01  4.90863851e-02\n",
      "  -1.58964307e+00  3.14366567e-01 -5.56487176e-01 -8.81917104e-01\n",
      "  -8.27170192e-01 -9.46729262e-01 -5.11082737e-01]\n",
      " [-8.24443802e-01  1.03112130e+00  6.00705455e-01  4.90863851e-02\n",
      "  -8.48561806e-01  2.26105103e-01 -3.12002388e-01 -8.81917104e-01\n",
      "  -8.27170192e-01 -9.46729262e-01 -5.11082737e-01]\n",
      " [-1.14473890e+00  1.03112130e+00  9.77795493e-01  1.45684686e+00\n",
      "   2.53559056e-01  6.46645020e-01 -1.38659831e+00 -8.81917104e-01\n",
      "  -8.27170192e-01 -9.46729262e-01  7.46967077e-01]\n",
      " [-1.50138328e-01  1.03112130e+00  1.38767597e+00  4.19549669e-01\n",
      "  -9.81576392e-01  6.51836871e-01 -4.54144707e-01 -8.81917104e-01\n",
      "  -8.27170192e-01 -9.46729262e-01 -5.11082737e-01]\n",
      " [ 1.21533026e+00 -1.24445674e+00 -1.24375669e+00 -1.19567025e+00\n",
      "   9.18631990e-01 -1.33145014e+00  5.97708448e-01  1.13389342e+00\n",
      "   1.20894105e+00  4.30331483e-01 -1.14010764e+00]\n",
      " [ 9.96180978e-01 -1.24445674e+00 -9.05195413e-01 -8.25206964e-01\n",
      "   1.58370492e+00 -1.11858426e+00 -6.53143952e-01 -8.81917104e-01\n",
      "   1.20894105e+00  1.80739223e+00 -5.11082737e-01]\n",
      " [ 1.73791700e+00 -1.24445674e+00 -1.11177517e+00 -4.99199275e-01\n",
      "   3.29567391e-01 -1.76964235e+00 -5.39430097e-01  1.13389342e+00\n",
      "   1.20894105e+00  1.80739223e+00 -5.11082737e-01]\n",
      " [-7.23297981e-01  1.03112130e+00  9.85993102e-01  1.73839896e+00\n",
      "   1.18466116e+00 -4.90629903e-02 -1.90399635e+00 -8.81917104e-01\n",
      "   1.20894105e+00  1.80739223e+00  7.46967077e-01]\n",
      " [-6.58501440e-02 -1.06667720e-01 -7.02714458e-01  4.19549669e-01\n",
      "   4.45361340e-02 -4.64411056e-01 -1.33542708e+00 -8.81917104e-01\n",
      "   1.20894105e+00  1.80739223e+00  2.00501689e+00]\n",
      " [-8.58159076e-01  1.03112130e+00  5.76112626e-01  2.79051468e+00\n",
      "  -1.07480537e-01  3.66285076e-01 -1.84713942e+00 -8.81917104e-01\n",
      "   1.20894105e+00  1.80739223e+00  3.26306671e+00]\n",
      " [ 2.20729683e-01 -1.24445674e+00 -8.99457087e-01 -5.58473400e-01\n",
      "   9.75638241e-01 -4.54027354e-01  4.27137666e-01  1.13389342e+00\n",
      "   1.20894105e+00  4.30331483e-01 -5.11082737e-01]]\n"
     ]
    }
   ],
   "source": [
    "from sklearn.preprocessing import StandardScaler\n",
    "#instanciation de l'objet\n",
    "sc = StandardScaler()\n",
    "#transformation – centrage-réduction\n",
    "Z = sc.fit_transform(X)\n",
    "print(Z)\n",
    "\n"
   ]
  },
  {
   "cell_type": "code",
   "execution_count": null,
   "metadata": {
    "colab": {
     "base_uri": "https://localhost:8080/"
    },
    "id": "kLIFX329nNSI",
    "outputId": "d46d0788-a845-481c-919e-8c34a752b57b"
   },
   "outputs": [
    {
     "name": "stdout",
     "output_type": "stream",
     "text": [
      "[-4.99600361e-16  2.77555756e-17  1.66533454e-16  0.00000000e+00\n",
      " -3.05311332e-16  5.55111512e-17 -1.47104551e-15  0.00000000e+00\n",
      "  0.00000000e+00 -2.77555756e-17 -2.77555756e-17]\n",
      "[1. 1. 1. 1. 1. 1. 1. 1. 1. 1. 1.]\n"
     ]
    }
   ],
   "source": [
    "#vérification_Centrage Réduction \n",
    "import numpy as np\n",
    "#moyenne\n",
    "print(np.mean(Z,axis=0))\n",
    "#écart-type\n",
    "print(np.std(Z,axis=0,ddof=0))"
   ]
  },
  {
   "cell_type": "code",
   "execution_count": null,
   "metadata": {
    "colab": {
     "base_uri": "https://localhost:8080/"
    },
    "id": "KMTDGAbsiOb-",
    "outputId": "6c8c243b-c87a-461d-f18d-4496a2b6df12"
   },
   "outputs": [
    {
     "name": "stdout",
     "output_type": "stream",
     "text": [
      "PCA(copy=True, iterated_power='auto', n_components=None, random_state=None,\n",
      "    svd_solver='full', tol=0.0, whiten=False)\n"
     ]
    }
   ],
   "source": [
    "#Analyse en composantes principales avec PCA de \"scikit-learn\"\n",
    "from sklearn.decomposition import PCA\n",
    "#instanciation de l'objet\n",
    "acp = PCA(svd_solver='full')\n",
    "# Affichage des paramètres\n",
    "#https://scikit-learn.org/stable/modules/generated/sklearn.decomposition.PCA.html\n",
    "print(acp)\n"
   ]
  },
  {
   "cell_type": "markdown",
   "metadata": {
    "id": "JVE8iJ4vpH9s"
   },
   "source": [
    "svd_solver = ‘full’: indique l’algorithme utilisé pour la décomposition en valeurs singulières --> C'est un ‘’exact Full SVD’’(par défaut pour l’appréhension des bases de taille réduite, mais il y a  d’autres approches pour le traitement des grands ensembles de données. \n",
    "Le nombre de composantes (K) n’étant pas spécifié (n_components = None, il est par défaut égal au nombre de variables (K = p). "
   ]
  },
  {
   "cell_type": "code",
   "execution_count": null,
   "metadata": {
    "colab": {
     "base_uri": "https://localhost:8080/"
    },
    "id": "WBA9jKWKinfR",
    "outputId": "911ea92a-9bb0-42ad-a7f0-3a7a36063949"
   },
   "outputs": [
    {
     "name": "stdout",
     "output_type": "stream",
     "text": [
      "11\n"
     ]
    }
   ],
   "source": [
    "#Appliquer l'ACP\n",
    "coord = acp.fit_transform(Z)\n",
    "#nombre de composantes calculées\n",
    "print(acp.n_components_) \n"
   ]
  },
  {
   "cell_type": "code",
   "execution_count": null,
   "metadata": {
    "colab": {
     "base_uri": "https://localhost:8080/"
    },
    "id": "qnflAadbs2Q7",
    "outputId": "1ebab620-73b2-44c2-e41f-86db0762cc8b"
   },
   "outputs": [
    {
     "name": "stdout",
     "output_type": "stream",
     "text": [
      "[0.60076366 0.24095163 0.05701793 0.02450886 0.02031374 0.01923601\n",
      " 0.01229654 0.01117286 0.00700424 0.00473049 0.00200404]\n"
     ]
    }
   ],
   "source": [
    "\n",
    "#Proportions de variance associées aux axes\n",
    "print(acp.explained_variance_ratio_)"
   ]
  },
  {
   "cell_type": "markdown",
   "metadata": {
    "id": "Wzg7vZNHuAsh"
   },
   "source": [
    "Pour obtenir les valeurs propres associées aux axes factoriels:"
   ]
  },
  {
   "cell_type": "code",
   "execution_count": null,
   "metadata": {
    "colab": {
     "base_uri": "https://localhost:8080/"
    },
    "id": "Pb2Y1Z_fq4Ww",
    "outputId": "60e5c235-42ab-4e9d-f3a6-64c4035061fc"
   },
   "outputs": [
    {
     "name": "stdout",
     "output_type": "stream",
     "text": [
      "[6.60840025 2.65046789 0.62719727 0.26959744 0.2234511  0.21159612\n",
      " 0.13526199 0.12290143 0.07704665 0.05203544 0.02204441]\n"
     ]
    }
   ],
   "source": [
    "#Par la propriété .explained_variance_ (calcul de la variance expliquée)\n",
    "eigval = (n-1)/n*acp.explained_variance_\n",
    "print(eigval)\n"
   ]
  },
  {
   "cell_type": "code",
   "execution_count": null,
   "metadata": {
    "colab": {
     "base_uri": "https://localhost:8080/"
    },
    "id": "FYGB-C6ptc1s",
    "outputId": "b0f45e2a-682f-470b-b2dc-855517bbc880"
   },
   "outputs": [
    {
     "name": "stdout",
     "output_type": "stream",
     "text": [
      "[6.60840025 2.65046789 0.62719727 0.26959744 0.2234511  0.21159612\n",
      " 0.13526199 0.12290143 0.07704665 0.05203544 0.02204441]\n"
     ]
    }
   ],
   "source": [
    "#Par les valeurs singulières .singular_values_\n",
    "# issues de la factorisation de la matrice des données centrées et réduites (Matrice de corrélation)\n",
    "\n",
    "print(acp.singular_values_**2/n) "
   ]
  },
  {
   "cell_type": "code",
   "execution_count": null,
   "metadata": {
    "colab": {
     "base_uri": "https://localhost:8080/",
     "height": 295
    },
    "id": "AiQZ4moVjlU2",
    "outputId": "5e900ef0-89ef-48b8-bed4-ec1c7c3f5904"
   },
   "outputs": [
    {
     "data": {
      "image/png": "[encoded data removed]",
      "text/plain": [
       "<Figure size 432x288 with 1 Axes>"
      ]
     },
     "metadata": {
      "needs_background": "light",
      "tags": []
     },
     "output_type": "display_data"
    }
   ],
   "source": [
    "#scree plot\n",
    "plt.plot(numpy.arange(1,p+1),eigval)\n",
    "plt.title(\"Valeurs propres associées aux axes factoriels\")\n",
    "plt.ylabel(\"Eigen values\")\n",
    "plt.xlabel(\"Factor number\")\n",
    "plt.show()"
   ]
  },
  {
   "cell_type": "code",
   "execution_count": null,
   "metadata": {
    "colab": {
     "base_uri": "https://localhost:8080/",
     "height": 295
    },
    "id": "4lYCSVgelePq",
    "outputId": "0a8bd114-d826-4377-91e2-849cdf0525b5"
   },
   "outputs": [
    {
     "data": {
      "image/png": "[encoded data removed]",
      "text/plain": [
       "<Figure size 432x288 with 1 Axes>"
      ]
     },
     "metadata": {
      "needs_background": "light",
      "tags": []
     },
     "output_type": "display_data"
    }
   ],
   "source": [
    "#La variance expliquée cumulée \n",
    "plt.plot(numpy.arange(1,p+1),numpy.cumsum(acp.explained_variance_ratio_))\n",
    "plt.title(\"Le cumul de variance restituée selon le nombre de facteurs \")\n",
    "plt.ylabel(\"Cumsum explained variance ratio\")\n",
    "plt.xlabel(\"Factor number\")\n",
    "plt.show()\n"
   ]
  },
  {
   "cell_type": "markdown",
   "metadata": {
    "id": "r6EvnqwXvPD-"
   },
   "source": [
    "# Détermination du nombre de facteur à retenir\n",
    "\n",
    "- Critère de Kaiser: on ne retient que les axes dont l’inertie est\n",
    "supérieure à l’inertie moyenne I/p (un peu étroit).\n",
    "Kaiser en ACP normée: I/p= 1 : On ne retiendra que les axes\n",
    "associés à des valeurs propre supérieures à 1\n",
    "- Critère du coude: sur l’eboulis des valeurs propres, on observe un\n",
    "décrochement (coude) suivi d’une décroissance régulière. On\n",
    "sélectionne les axes avant le décrochement"
   ]
  },
  {
   "cell_type": "code",
   "execution_count": null,
   "metadata": {
    "colab": {
     "base_uri": "https://localhost:8080/"
    },
    "id": "p0w8fltOloN9",
    "outputId": "0dd6af11-938f-497c-a11c-64d89dbdc1da"
   },
   "outputs": [
    {
     "name": "stdout",
     "output_type": "stream",
     "text": [
      "    Val.Propre    Seuils\n",
      "0     6.608400  3.019877\n",
      "1     2.650468  2.019877\n",
      "2     0.627197  1.519877\n",
      "3     0.269597  1.186544\n",
      "4     0.223451  0.936544\n",
      "5     0.211596  0.736544\n",
      "6     0.135262  0.569877\n",
      "7     0.122901  0.427020\n",
      "8     0.077047  0.302020\n",
      "9     0.052035  0.190909\n",
      "10    0.022044  0.090909\n"
     ]
    }
   ],
   "source": [
    "#seuils pour test des bâtons brisés\n",
    "import pandas as pd\n",
    "bs = 1/numpy.arange(p,0,-1)\n",
    "bs = numpy.cumsum(bs)\n",
    "bs = bs[::-1]\n",
    "#Afficher conjointement les valeurs propres et les seuils \n",
    "print(pd.DataFrame({'Val.Propre':eigval,'Seuils':bs}))\n"
   ]
  },
  {
   "cell_type": "markdown",
   "metadata": {
    "id": "cXOOetihxQ9N"
   },
   "source": [
    "Avec cette procédure, seul le premier facteur est valid."
   ]
  },
  {
   "cell_type": "markdown",
   "metadata": {
    "id": "_NK9SUi8jSaa"
   },
   "source": [
    "# Etude des individus\n",
    "\n",
    " "
   ]
  },
  {
   "cell_type": "markdown",
   "metadata": {
    "id": "OXZ60y8Wl_re"
   },
   "source": [
    "Représentation des individus"
   ]
  },
  {
   "cell_type": "code",
   "execution_count": null,
   "metadata": {
    "colab": {
     "base_uri": "https://localhost:8080/",
     "height": 704
    },
    "id": "mIa2t90Sl-aQ",
    "outputId": "2547fc3c-fbc3-4524-f45c-9374346abbae"
   },
   "outputs": [
    {
     "data": {
      "image/png": "[encoded data removed]",
      "text/plain": [
       "<Figure size 864x864 with 1 Axes>"
      ]
     },
     "metadata": {
      "needs_background": "light",
      "tags": []
     },
     "output_type": "display_data"
    }
   ],
   "source": [
    " #positionnement des individus dans le premier plan\n",
    "fig, axes = plt.subplots(figsize=(12,12))\n",
    "axes.set_xlim(-6,6) #même limites en abscisse\n",
    "axes.set_ylim(-6,6) #et en ordonnée\n",
    "#placement des étiquettes des observations\n",
    "for i in range(n): plt.annotate(X.index[i],(coord[i,0],coord[i,1]))\n",
    "#ajouter les axes\n",
    "plt.plot([-6,6],[0,0],color='silver',linestyle='-',linewidth=1)\n",
    "plt.plot([0,0],[-6,6],color='silver',linestyle='-',linewidth=1)\n",
    "#affichage\n",
    "plt.show()\n"
   ]
  },
  {
   "cell_type": "code",
   "execution_count": null,
   "metadata": {
    "colab": {
     "base_uri": "https://localhost:8080/"
    },
    "id": "VmsbwC3_yKwS",
    "outputId": "fc2dcbaa-4106-441d-c777-647d7ef371c0"
   },
   "outputs": [
    {
     "name": "stdout",
     "output_type": "stream",
     "text": [
      "                     ID        d_i\n",
      "0             Mazda RX4   4.989548\n",
      "1         Mazda RX4 Wag   4.329800\n",
      "2            Datsun 710   8.921867\n",
      "3        Hornet 4 Drive   6.353775\n",
      "4     Hornet Sportabout   6.032381\n",
      "5               Valiant   9.082064\n",
      "6            Duster 360  10.156018\n",
      "7             Merc 240D   8.070415\n",
      "8              Merc 230  13.934540\n",
      "9              Merc 280   3.635009\n",
      "10            Merc 280C   4.053005\n",
      "11           Merc 450SE   6.053031\n",
      "12           Merc 450SL   5.341587\n",
      "13          Merc 450SLC   5.845360\n",
      "14   Cadillac Fleetwood  17.372037\n",
      "15  Lincoln Continental  17.741435\n",
      "16    Chrysler Imperial  14.698640\n",
      "17             Fiat 128  15.878871\n",
      "18          Honda Civic  20.680239\n",
      "19       Toyota Corolla  19.201411\n",
      "20        Toyota Corona   9.294439\n",
      "21     Dodge Challenger   7.731357\n",
      "22          AMC Javelin   5.594192\n",
      "23           Camaro Z28  10.773466\n",
      "24     Pontiac Firebird   7.401540\n",
      "25            Fiat X1-9  13.208441\n",
      "26        Porsche 914-2  13.994532\n",
      "27         Lotus Europa  15.860631\n",
      "28       Ford Pantera L  16.675559\n",
      "29         Ferrari Dino  12.212646\n",
      "30        Maserati Bora  29.629754\n",
      "31           Volvo 142E   7.252411\n"
     ]
    }
   ],
   "source": [
    "#contribution des individus dans l'inertie totale\n",
    "di = numpy.sum(Z**2,axis=1)\n",
    "print(pd.DataFrame({'ID':X.index,'d_i':di}))"
   ]
  },
  {
   "cell_type": "markdown",
   "metadata": {
    "id": "StTRJseRmdIV"
   },
   "source": [
    "Qualité de représentation des individus – COS² "
   ]
  },
  {
   "cell_type": "code",
   "execution_count": null,
   "metadata": {
    "colab": {
     "base_uri": "https://localhost:8080/",
     "height": 617
    },
    "id": "lIGnaKZxoT2d",
    "outputId": "715da161-21f4-4912-b361-41e307e6d39e"
   },
   "outputs": [
    {
     "name": "stdout",
     "output_type": "stream",
     "text": [
      "                     id        COS2_1    COS2_2\n",
      "0             Mazda RX4  8.656680e-02  0.603616\n",
      "1         Mazda RX4 Wag  9.149123e-02  0.554899\n",
      "2            Datsun 710  8.658556e-01  0.002404\n",
      "3        Hornet 4 Drive  1.529814e-02  0.878825\n",
      "4     Hornet Sportabout  6.462799e-01  0.094345\n",
      "5               Valiant  3.469941e-04  0.854629\n",
      "6            Duster 360  8.877547e-01  0.011043\n",
      "7             Merc 240D  5.234398e-01  0.266003\n",
      "8              Merc 230  3.754869e-01  0.282347\n",
      "9              Merc 280  7.622461e-02  0.007221\n",
      "10            Merc 280C  6.397481e-02  0.025884\n",
      "11           Merc 450SE  8.347309e-01  0.077174\n",
      "12           Merc 450SL  7.850810e-01  0.087388\n",
      "13          Merc 450SLC  7.897261e-01  0.109965\n",
      "14   Cadillac Fleetwood  8.754509e-01  0.039460\n",
      "15  Lincoln Continental  8.812753e-01  0.030316\n",
      "16    Chrysler Imperial  8.782750e-01  0.012066\n",
      "17             Fiat 128  9.365228e-01  0.005546\n",
      "18          Honda Civic  8.750766e-01  0.022916\n",
      "19       Toyota Corolla  9.337140e-01  0.004062\n",
      "20        Toyota Corona  3.901102e-01  0.483484\n",
      "21     Dodge Challenger  6.174302e-01  0.133047\n",
      "22          AMC Javelin  6.206791e-01  0.146881\n",
      "23           Camaro Z28  7.747079e-01  0.043025\n",
      "24     Pontiac Firebird  6.815003e-01  0.103161\n",
      "25            Fiat X1-9  9.670520e-01  0.001112\n",
      "26        Porsche 914-2  5.022786e-01  0.299234\n",
      "27         Lotus Europa  7.227332e-01  0.119827\n",
      "28       Ford Pantera L  1.130404e-01  0.734608\n",
      "29         Ferrari Dino  8.024003e-08  0.848500\n",
      "30        Maserati Bora  2.404418e-01  0.647375\n",
      "31           Volvo 142E  8.079067e-01  0.007527\n"
     ]
    }
   ],
   "source": [
    "cos2 = coord**2\n",
    "for j in range(p):\n",
    " cos2[:,j] = cos2[:,j]/di\n",
    "print(pd.DataFrame({'id':X.index,'COS2_1':cos2[:,0],'COS2_2':cos2[:,1]}))"
   ]
  },
  {
   "cell_type": "markdown",
   "metadata": {
    "id": "B-Pkyk_vd6MI"
   },
   "source": [
    "Plus la valeur de la cos2 est proche de 1 mieux c'est :\n",
    "- Bonne représentation sur l'axe (valeur proche de 1)\n",
    "- Mauvaise représentation sur l'axe\n",
    "\n",
    "```\n",
    "# Ce texte est au format code\n",
    "```\n",
    "\n",
    " (valeur proche de 0)"
   ]
  },
  {
   "cell_type": "code",
   "execution_count": null,
   "metadata": {
    "colab": {
     "base_uri": "https://localhost:8080/",
     "height": 617
    },
    "id": "tqGBev9G1PxQ",
    "outputId": "a8d00871-4cc5-4295-95b7-4ca7fbca621f"
   },
   "outputs": [
    {
     "name": "stdout",
     "output_type": "stream",
     "text": [
      "                     id         CTR_1     CTR_2\n",
      "0             Mazda RX4  2.042520e-03  0.035510\n",
      "1         Mazda RX4 Wag  1.873272e-03  0.028328\n",
      "2            Datsun 710  3.653044e-02  0.000253\n",
      "3        Hornet 4 Drive  4.596469e-04  0.065836\n",
      "4     Hornet Sportabout  1.843585e-02  0.006710\n",
      "5               Valiant  1.490254e-05  0.091514\n",
      "6            Duster 360  4.263538e-02  0.001322\n",
      "7             Merc 240D  1.997636e-02  0.025311\n",
      "8              Merc 230  2.474236e-02  0.046388\n",
      "9              Merc 280  1.310251e-03  0.000309\n",
      "10            Merc 280C  1.226139e-03  0.001237\n",
      "11           Merc 450SE  2.389313e-02  0.005508\n",
      "12           Merc 450SL  1.983072e-02  0.005504\n",
      "13          Merc 450SLC  2.182938e-02  0.007579\n",
      "14   Cadillac Fleetwood  7.191777e-02  0.008082\n",
      "15  Lincoln Continental  7.393568e-02  0.006341\n",
      "16    Chrysler Imperial  6.104658e-02  0.002091\n",
      "17             Fiat 128  7.032207e-02  0.001038\n",
      "18          Honda Civic  8.557665e-02  0.005588\n",
      "19       Toyota Corolla  8.478142e-02  0.000920\n",
      "20        Toyota Corona  1.714605e-02  0.052983\n",
      "21     Dodge Challenger  2.257341e-02  0.012128\n",
      "22          AMC Javelin  1.641943e-02  0.009688\n",
      "23           Camaro Z28  3.946818e-02  0.005465\n",
      "24     Pontiac Firebird  2.385294e-02  0.009003\n",
      "25            Fiat X1-9  6.040252e-02  0.000173\n",
      "26        Porsche 914-2  3.323967e-02  0.049374\n",
      "27         Lotus Europa  5.420660e-02  0.022408\n",
      "28       Ford Pantera L  8.913901e-03  0.144432\n",
      "29         Ferrari Dino  4.633984e-09  0.122177\n",
      "30        Maserati Bora  3.368928e-02  0.226158\n",
      "31           Volvo 142E  2.770750e-02  0.000644\n"
     ]
    }
   ],
   "source": [
    "# Contribution des individus aux axes\n",
    "ctr = coord**2\n",
    "for j in range(p):\n",
    " ctr[:,j] = ctr[:,j]/(n*eigval[j])\n",
    "\n",
    "print(pd.DataFrame({'id':X.index,'CTR_1':ctr[:,0],'CTR_2':ctr[:,1]}))\n"
   ]
  },
  {
   "cell_type": "markdown",
   "metadata": {
    "id": "99PHDfIQqNxI"
   },
   "source": [
    " ce sont Honda Civic et Toyota Corolla qui sont déterminants pour le\n",
    "premier axe ; pour le second, nous avons Maserati Bora et Ford Pantera L."
   ]
  },
  {
   "cell_type": "markdown",
   "metadata": {
    "id": "XaQcYFZ7pEcg"
   },
   "source": [
    "# Etude des variables"
   ]
  },
  {
   "cell_type": "markdown",
   "metadata": {
    "id": "8abpDuNur2Ot"
   },
   "source": [
    "Corrélation des variables avec les axes"
   ]
  },
  {
   "cell_type": "code",
   "execution_count": null,
   "metadata": {
    "colab": {
     "base_uri": "https://localhost:8080/",
     "height": 1000
    },
    "id": "xIwTqiHVrZgL",
    "outputId": "33914ab2-de96-47f3-d7c7-4bde149e2ec9"
   },
   "outputs": [
    {
     "name": "stdout",
     "output_type": "stream",
     "text": [
      "[[ 0.3625305  -0.37391603 -0.3681852  -0.33005692  0.29415138 -0.34610332\n",
      "   0.20045635  0.30651132  0.23494289  0.20691624 -0.21401766]\n",
      " [ 0.0161244   0.04374371 -0.04932413  0.24878402  0.27469408 -0.14303825\n",
      "  -0.46337482 -0.23164699  0.42941765  0.46234863  0.41357106]\n",
      " [-0.22574419 -0.17531118 -0.06148414  0.14001476  0.16118879  0.34181851\n",
      "   0.40316904  0.42881517 -0.20576657  0.28977993  0.52854459]\n",
      " [-0.02254025 -0.00259184  0.25660788 -0.06767616  0.85482874  0.24589931\n",
      "   0.06807653 -0.21484862 -0.03046291 -0.26469052 -0.12678918]\n",
      " [ 0.10284468  0.05848381  0.3939953   0.54004744  0.07732727 -0.07502912\n",
      "  -0.16466591  0.59953955  0.08978128  0.0483296  -0.36131875]\n",
      " [-0.10879743  0.16855369 -0.33616451  0.07143563  0.24449705 -0.46493964\n",
      "  -0.33048032  0.19401702 -0.57081745 -0.24356284  0.18352168]\n",
      " [ 0.36772381  0.05727774  0.21430308 -0.00149599  0.02111986 -0.0206683\n",
      "   0.05001052 -0.26578084 -0.5873051   0.60509762 -0.17460319]\n",
      " [ 0.75409142  0.23082493 -0.00114213  0.22235844 -0.0321935   0.00857193\n",
      "   0.23184002 -0.02593513  0.05974695 -0.33615024  0.39562911]\n",
      " [-0.23570162 -0.05403527 -0.19842785  0.57583007  0.04690123 -0.35949825\n",
      "   0.52837719 -0.35858262  0.04740398  0.00173504 -0.17064068]\n",
      " [ 0.13928524 -0.84641949  0.04937979  0.24782351 -0.10149369  0.09439426\n",
      "  -0.27067295 -0.15903909 -0.17778541 -0.21382515  0.0722595 ]\n",
      " [ 0.12489563  0.14069544 -0.66060648  0.25649206  0.03953025  0.5674487\n",
      "  -0.18136178 -0.00841463 -0.02982354  0.05350708 -0.31959468]]\n",
      "[[ 9.31950239e-01  2.62509362e-02 -1.78779890e-01 -1.17035252e-02\n",
      "   4.86153135e-02 -5.00463601e-02  1.35241393e-01  2.64364097e-01\n",
      "  -6.54243559e-02  3.17727444e-02  1.85437018e-02]\n",
      " [-9.61218787e-01  7.12158914e-02 -1.38839068e-01 -1.34575394e-03\n",
      "   2.76456543e-02  7.75339886e-02  2.10655949e-02  8.09209881e-02\n",
      "  -1.49987209e-02 -1.93079105e-01  2.08895568e-02]\n",
      " [-9.46486648e-01 -8.03009484e-02 -4.86928452e-02  1.33237930e-01\n",
      "   1.86244001e-01 -1.54634258e-01  7.88163447e-02 -4.00401334e-04\n",
      "  -5.50781718e-02  1.12641605e-02 -9.80826138e-02]\n",
      " [-8.48471029e-01  4.05026795e-01  1.10885794e-01 -3.51393372e-02\n",
      "   2.55283746e-01  3.28600887e-02 -5.50194552e-04  7.79528673e-02\n",
      "   1.59834761e-01  5.65317089e-02  3.80822965e-02]\n",
      " [ 7.56169338e-01  4.47209048e-01  1.27654732e-01  4.43850788e-01\n",
      "   3.65530778e-02  1.12467611e-01  7.76745697e-03 -1.12861725e-02\n",
      "   1.30185049e-02 -2.31520079e-02  5.86919740e-03]\n",
      " [-8.89721182e-01 -2.32869958e-01  2.70705860e-01  1.27677743e-01\n",
      "  -3.54667285e-02 -2.13870273e-01 -7.60138425e-03  3.00508689e-03\n",
      "  -9.97869332e-02  2.15325380e-02  8.42511434e-02]\n",
      " [ 5.15309301e-01 -7.54386144e-01  3.19292894e-01  3.53472232e-02\n",
      "  -7.78385862e-02 -1.52019555e-01  1.83928603e-02  8.12768533e-02\n",
      "   1.46663131e-01 -6.17439593e-02 -2.69274340e-02]\n",
      " [ 7.87942797e-01 -3.77127273e-01  3.39603551e-01 -1.11555360e-01\n",
      "   2.83406034e-01  8.92470114e-02 -9.77488250e-02 -9.09215576e-03\n",
      "  -9.95327801e-02 -3.62788491e-02 -1.24935095e-03]\n",
      " [ 6.03963200e-01  6.99103004e-01 -1.62958452e-01 -1.58171867e-02\n",
      "   4.24401634e-02 -2.62573619e-01 -2.15998958e-01  2.09456686e-02\n",
      "   1.31580558e-02 -4.05551245e-02 -4.42800755e-03]\n",
      " [ 5.31915618e-01  7.52715489e-01  2.29493497e-01 -1.37434658e-01\n",
      "   2.28456986e-02 -1.12037880e-01  2.22542686e-01 -1.17845200e-01\n",
      "   4.81599684e-04 -4.87762505e-02  7.94438877e-03]\n",
      " [-5.50171100e-01  6.73304337e-01  4.18585049e-01 -6.58324577e-02\n",
      "  -1.70797594e-01  8.44191986e-02 -6.42155284e-02  1.38696886e-01\n",
      "  -4.73652092e-02  1.64833166e-02 -4.74513679e-02]]\n",
      "      id     COR_1     COR_2\n",
      "0    mpg  0.931950  0.026251\n",
      "1    cyl -0.961219  0.071216\n",
      "2   disp -0.946487 -0.080301\n",
      "3     hp -0.848471  0.405027\n",
      "4   drat  0.756169  0.447209\n",
      "5     wt -0.889721 -0.232870\n",
      "6   qsec  0.515309 -0.754386\n",
      "7     vs  0.787943 -0.377127\n",
      "8     am  0.603963  0.699103\n",
      "9   gear  0.531916  0.752715\n",
      "10  carb -0.550171  0.673304\n"
     ]
    }
   ],
   "source": [
    "#le champ components_ de l'objet ACP\n",
    "print(acp.components_)\n",
    "#racine carrée des valeurs propres\n",
    "sqrt_eigval = numpy.sqrt(eigval)\n",
    "#corrélation des variables avec les axes\n",
    "corvar = numpy.zeros((p,p))\n",
    "for k in range(p):\n",
    " corvar[:,k] = acp.components_[k,:] * sqrt_eigval[k]\n",
    "\n",
    "#afficher la matrice des corrélations variables x facteurs\n",
    "print(corvar)\n",
    "#on affiche pour les deux premiers axes\n",
    "print(pd.DataFrame({'id':X.columns,'COR_1':corvar[:,0],'COR_2':corvar[:,1]}))"
   ]
  },
  {
   "cell_type": "code",
   "execution_count": null,
   "metadata": {
    "colab": {
     "base_uri": "https://localhost:8080/",
     "height": 487
    },
    "id": "2UqwON2FsD1s",
    "outputId": "71675dc9-cacd-45a6-a11c-bac2c755f6ec"
   },
   "outputs": [
    {
     "data": {
      "image/png": "[encoded data removed]",
      "text/plain": [
       "<Figure size 576x576 with 1 Axes>"
      ]
     },
     "metadata": {
      "needs_background": "light",
      "tags": []
     },
     "output_type": "display_data"
    }
   ],
   "source": [
    "#cercle des corrélations\n",
    "fig, axes = plt.subplots(figsize=(8,8))\n",
    "axes.set_xlim(-1,1)\n",
    "axes.set_ylim(-1,1)\n",
    "#affichage des étiquettes (noms des variables)\n",
    "for j in range(p):\n",
    " plt.annotate(X.columns[j],(corvar[j,0],corvar[j,1]))\n",
    "\n",
    "#ajouter les axes\n",
    "plt.plot([-1,1],[0,0],color='silver',linestyle='-',linewidth=1)\n",
    "plt.plot([0,0],[-1,1],color='silver',linestyle='-',linewidth=1)\n",
    "#ajouter un cercle\n",
    "cercle = plt.Circle((0,0),1,color='blue',fill=False)\n",
    "axes.add_artist(cercle)\n",
    "#affichage\n",
    "plt.show()\n"
   ]
  },
  {
   "cell_type": "markdown",
   "metadata": {
    "id": "v345uDZFsTK7"
   },
   "source": [
    "Interprétation:\n",
    "- Angle entre deux variables proche de 0: Corrélation positive\n",
    "- Angle entre deux variables proche de 180: Corrélation négative\n",
    "- Angle entre deux variables proche de 90: Pas de Corrélation \n",
    "\n"
   ]
  },
  {
   "cell_type": "markdown",
   "metadata": {
    "id": "i638lQu6sXYT"
   },
   "source": [
    "Qualité de représentation des variables (COS²)\n"
   ]
  },
  {
   "cell_type": "code",
   "execution_count": null,
   "metadata": {
    "colab": {
     "base_uri": "https://localhost:8080/",
     "height": 235
    },
    "id": "ZxY8AyCRsem1",
    "outputId": "c4412cd4-73ad-46f1-ff9f-c86ebd367113"
   },
   "outputs": [
    {
     "name": "stdout",
     "output_type": "stream",
     "text": [
      "      id    COS2_1    COS2_2\n",
      "0    mpg  0.868531  0.000689\n",
      "1    cyl  0.923942  0.005072\n",
      "2   disp  0.895837  0.006448\n",
      "3     hp  0.719903  0.164047\n",
      "4   drat  0.571792  0.199996\n",
      "5     wt  0.791604  0.054228\n",
      "6   qsec  0.265544  0.569098\n",
      "7     vs  0.620854  0.142225\n",
      "8     am  0.364772  0.488745\n",
      "9   gear  0.282934  0.566581\n",
      "10  carb  0.302688  0.453339\n"
     ]
    }
   ],
   "source": [
    "#cosinus carré des variables\n",
    "#La qualité de représentation des variables par rapport aux axes\n",
    "cos2var = corvar**2\n",
    "print(pd.DataFrame({'id':X.columns,'COS2_1':cos2var[:,0],'COS2_2':cos2var[:,1]}))"
   ]
  },
  {
   "cell_type": "code",
   "execution_count": null,
   "metadata": {
    "colab": {
     "base_uri": "https://localhost:8080/",
     "height": 235
    },
    "id": "9LXvDvSOuHew",
    "outputId": "79754441-c87f-45ca-e67e-2a691415fab9"
   },
   "outputs": [
    {
     "name": "stdout",
     "output_type": "stream",
     "text": [
      "      id     CTR_1     CTR_2\n",
      "0    mpg  0.019888  0.000098\n",
      "1    cyl  0.021157  0.000722\n",
      "2   disp  0.020513  0.000918\n",
      "3     hp  0.016485  0.023352\n",
      "4   drat  0.013093  0.028469\n",
      "5     wt  0.018127  0.007719\n",
      "6   qsec  0.006081  0.081011\n",
      "7     vs  0.014217  0.020246\n",
      "8     am  0.008353  0.069572\n",
      "9   gear  0.006479  0.080652\n",
      "10  carb  0.006931  0.064532\n"
     ]
    }
   ],
   "source": [
    "#Contribution des variables aux axes \n",
    "#contributions\n",
    "ctrvar = cos2var\n",
    "for k in range(p):\n",
    " ctrvar[:,k] = ctrvar[:,k]/eigval[k]\n",
    "#on n'affiche que pour les deux premiers axes\n",
    "print(pd.DataFrame({'id':X.columns,'CTR_1':ctrvar[:,0],'CTR_2':ctrvar[:,1]}))"
   ]
  }
 ],
 "metadata": {
  "colab": {
   "collapsed_sections": [],
   "name": "AtelierACP.ipynb",
   "provenance": []
  },
  "kernelspec": {
   "display_name": "Python 3",
   "language": "python",
   "name": "python3"
  },
  "language_info": {
   "codemirror_mode": {
    "name": "ipython",
    "version": 3
   },
   "file_extension": ".py",
   "mimetype": "text/x-python",
   "name": "python",
   "nbconvert_exporter": "python",
   "pygments_lexer": "ipython3",
   "version": "3.8.8"
  }
 },
 "nbformat": 4,
 "nbformat_minor": 1
}
