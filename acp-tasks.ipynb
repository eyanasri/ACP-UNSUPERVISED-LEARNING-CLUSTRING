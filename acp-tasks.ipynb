{
 "cells": [
  {
   "cell_type": "code",
   "execution_count": 1,
   "metadata": {},
   "outputs": [
    {
     "name": "stdout",
     "output_type": "stream",
     "text": [
      "1.1.3\n"
     ]
    }
   ],
   "source": [
    "#librairie pandas\n",
    "import pandas\n",
    "import numpy\n",
    "import matplotlib.pyplot as plt\n",
    "#version\n",
    "print(pandas.__version__) # 0.23.0\n",
    "#chargement de la première feuille de données\n",
    "XXX = pandas.read_csv(\"tasks.csv\")"
   ]
  },
  {
   "cell_type": "code",
   "execution_count": 2,
   "metadata": {},
   "outputs": [
    {
     "data": {
      "text/html": [
       "<div>\n",
       "<style scoped>\n",
       "    .dataframe tbody tr th:only-of-type {\n",
       "        vertical-align: middle;\n",
       "    }\n",
       "\n",
       "    .dataframe tbody tr th {\n",
       "        vertical-align: top;\n",
       "    }\n",
       "\n",
       "    .dataframe thead th {\n",
       "        text-align: right;\n",
       "    }\n",
       "</style>\n",
       "<table border=\"1\" class=\"dataframe\">\n",
       "  <thead>\n",
       "    <tr style=\"text-align: right;\">\n",
       "      <th></th>\n",
       "      <th>id</th>\n",
       "      <th>name</th>\n",
       "      <th>done</th>\n",
       "      <th>project_id</th>\n",
       "      <th>creationDate</th>\n",
       "      <th>lastUpdateDateTime</th>\n",
       "      <th>type</th>\n",
       "      <th>type_code</th>\n",
       "      <th>scope</th>\n",
       "      <th>planningmode</th>\n",
       "      <th>...</th>\n",
       "      <th>totalLeftCost</th>\n",
       "      <th>totalValidatedCost</th>\n",
       "      <th>marginWork</th>\n",
       "      <th>marginCost</th>\n",
       "      <th>marginWorkPct</th>\n",
       "      <th>marginCostPct</th>\n",
       "      <th>plannedStartFraction</th>\n",
       "      <th>plannedEndFraction</th>\n",
       "      <th>validatedStartFraction</th>\n",
       "      <th>validatedEndFraction</th>\n",
       "    </tr>\n",
       "  </thead>\n",
       "  <tbody>\n",
       "    <tr>\n",
       "      <th>0</th>\n",
       "      <td>1</td>\n",
       "      <td>Maintenance</td>\n",
       "      <td>0</td>\n",
       "      <td>2</td>\n",
       "      <td>2018-02-19</td>\n",
       "      <td>2018-02-19 16:17:24</td>\n",
       "      <td>Task</td>\n",
       "      <td>TAS</td>\n",
       "      <td>Activity</td>\n",
       "      <td>NaN</td>\n",
       "      <td>...</td>\n",
       "      <td>NaN</td>\n",
       "      <td>NaN</td>\n",
       "      <td>NaN</td>\n",
       "      <td>NaN</td>\n",
       "      <td>NaN</td>\n",
       "      <td>NaN</td>\n",
       "      <td>0.0</td>\n",
       "      <td>1.0</td>\n",
       "      <td>0.0</td>\n",
       "      <td>1.0</td>\n",
       "    </tr>\n",
       "    <tr>\n",
       "      <th>1</th>\n",
       "      <td>2</td>\n",
       "      <td>Projet CARPA</td>\n",
       "      <td>0</td>\n",
       "      <td>2</td>\n",
       "      <td>2018-02-19</td>\n",
       "      <td>2018-02-19 16:18:49</td>\n",
       "      <td>Task</td>\n",
       "      <td>TAS</td>\n",
       "      <td>Activity</td>\n",
       "      <td>NaN</td>\n",
       "      <td>...</td>\n",
       "      <td>NaN</td>\n",
       "      <td>NaN</td>\n",
       "      <td>NaN</td>\n",
       "      <td>NaN</td>\n",
       "      <td>NaN</td>\n",
       "      <td>NaN</td>\n",
       "      <td>0.0</td>\n",
       "      <td>1.0</td>\n",
       "      <td>0.0</td>\n",
       "      <td>1.0</td>\n",
       "    </tr>\n",
       "    <tr>\n",
       "      <th>2</th>\n",
       "      <td>3</td>\n",
       "      <td>Projet Tri / Réconciliation CHQ</td>\n",
       "      <td>0</td>\n",
       "      <td>2</td>\n",
       "      <td>2018-02-19</td>\n",
       "      <td>2018-02-19 16:20:07</td>\n",
       "      <td>Task</td>\n",
       "      <td>TAS</td>\n",
       "      <td>Activity</td>\n",
       "      <td>NaN</td>\n",
       "      <td>...</td>\n",
       "      <td>NaN</td>\n",
       "      <td>NaN</td>\n",
       "      <td>NaN</td>\n",
       "      <td>NaN</td>\n",
       "      <td>NaN</td>\n",
       "      <td>NaN</td>\n",
       "      <td>0.0</td>\n",
       "      <td>1.0</td>\n",
       "      <td>0.0</td>\n",
       "      <td>1.0</td>\n",
       "    </tr>\n",
       "    <tr>\n",
       "      <th>3</th>\n",
       "      <td>4</td>\n",
       "      <td>AT Description</td>\n",
       "      <td>0</td>\n",
       "      <td>15</td>\n",
       "      <td>2018-02-19</td>\n",
       "      <td>2018-02-19 16:24:31</td>\n",
       "      <td>Task</td>\n",
       "      <td>TAS</td>\n",
       "      <td>Activity</td>\n",
       "      <td>NaN</td>\n",
       "      <td>...</td>\n",
       "      <td>NaN</td>\n",
       "      <td>NaN</td>\n",
       "      <td>NaN</td>\n",
       "      <td>NaN</td>\n",
       "      <td>NaN</td>\n",
       "      <td>NaN</td>\n",
       "      <td>0.0</td>\n",
       "      <td>1.0</td>\n",
       "      <td>0.0</td>\n",
       "      <td>1.0</td>\n",
       "    </tr>\n",
       "    <tr>\n",
       "      <th>4</th>\n",
       "      <td>5</td>\n",
       "      <td>Modélisation</td>\n",
       "      <td>0</td>\n",
       "      <td>15</td>\n",
       "      <td>2018-02-19</td>\n",
       "      <td>2018-02-19 16:34:43</td>\n",
       "      <td>Task</td>\n",
       "      <td>TAS</td>\n",
       "      <td>Activity</td>\n",
       "      <td>NaN</td>\n",
       "      <td>...</td>\n",
       "      <td>NaN</td>\n",
       "      <td>NaN</td>\n",
       "      <td>NaN</td>\n",
       "      <td>NaN</td>\n",
       "      <td>NaN</td>\n",
       "      <td>NaN</td>\n",
       "      <td>0.0</td>\n",
       "      <td>1.0</td>\n",
       "      <td>0.0</td>\n",
       "      <td>1.0</td>\n",
       "    </tr>\n",
       "    <tr>\n",
       "      <th>...</th>\n",
       "      <td>...</td>\n",
       "      <td>...</td>\n",
       "      <td>...</td>\n",
       "      <td>...</td>\n",
       "      <td>...</td>\n",
       "      <td>...</td>\n",
       "      <td>...</td>\n",
       "      <td>...</td>\n",
       "      <td>...</td>\n",
       "      <td>...</td>\n",
       "      <td>...</td>\n",
       "      <td>...</td>\n",
       "      <td>...</td>\n",
       "      <td>...</td>\n",
       "      <td>...</td>\n",
       "      <td>...</td>\n",
       "      <td>...</td>\n",
       "      <td>...</td>\n",
       "      <td>...</td>\n",
       "      <td>...</td>\n",
       "      <td>...</td>\n",
       "    </tr>\n",
       "    <tr>\n",
       "      <th>481</th>\n",
       "      <td>493</td>\n",
       "      <td>Phase 1: Cadrage</td>\n",
       "      <td>0</td>\n",
       "      <td>102</td>\n",
       "      <td>2021-01-20</td>\n",
       "      <td>2021-01-20 11:47:06</td>\n",
       "      <td>Task</td>\n",
       "      <td>TAS</td>\n",
       "      <td>Activity</td>\n",
       "      <td>NaN</td>\n",
       "      <td>...</td>\n",
       "      <td>NaN</td>\n",
       "      <td>NaN</td>\n",
       "      <td>NaN</td>\n",
       "      <td>NaN</td>\n",
       "      <td>NaN</td>\n",
       "      <td>NaN</td>\n",
       "      <td>0.0</td>\n",
       "      <td>1.0</td>\n",
       "      <td>0.0</td>\n",
       "      <td>1.0</td>\n",
       "    </tr>\n",
       "    <tr>\n",
       "      <th>482</th>\n",
       "      <td>494</td>\n",
       "      <td>Phase 2: Définition de la stratégie de choix e...</td>\n",
       "      <td>0</td>\n",
       "      <td>102</td>\n",
       "      <td>2021-01-20</td>\n",
       "      <td>2021-01-20 11:48:15</td>\n",
       "      <td>Task</td>\n",
       "      <td>TAS</td>\n",
       "      <td>Activity</td>\n",
       "      <td>NaN</td>\n",
       "      <td>...</td>\n",
       "      <td>NaN</td>\n",
       "      <td>NaN</td>\n",
       "      <td>NaN</td>\n",
       "      <td>NaN</td>\n",
       "      <td>NaN</td>\n",
       "      <td>NaN</td>\n",
       "      <td>0.0</td>\n",
       "      <td>1.0</td>\n",
       "      <td>0.0</td>\n",
       "      <td>1.0</td>\n",
       "    </tr>\n",
       "    <tr>\n",
       "      <th>483</th>\n",
       "      <td>495</td>\n",
       "      <td>Phase 3: Dépouillement des offres</td>\n",
       "      <td>0</td>\n",
       "      <td>102</td>\n",
       "      <td>2021-01-20</td>\n",
       "      <td>2021-01-20 11:49:09</td>\n",
       "      <td>Task</td>\n",
       "      <td>TAS</td>\n",
       "      <td>Activity</td>\n",
       "      <td>NaN</td>\n",
       "      <td>...</td>\n",
       "      <td>NaN</td>\n",
       "      <td>NaN</td>\n",
       "      <td>NaN</td>\n",
       "      <td>NaN</td>\n",
       "      <td>NaN</td>\n",
       "      <td>NaN</td>\n",
       "      <td>0.0</td>\n",
       "      <td>1.0</td>\n",
       "      <td>0.0</td>\n",
       "      <td>1.0</td>\n",
       "    </tr>\n",
       "    <tr>\n",
       "      <th>484</th>\n",
       "      <td>496</td>\n",
       "      <td>Phase 4: Assistance à la contractualisation</td>\n",
       "      <td>0</td>\n",
       "      <td>102</td>\n",
       "      <td>2021-01-20</td>\n",
       "      <td>2021-01-20 11:49:59</td>\n",
       "      <td>Task</td>\n",
       "      <td>TAS</td>\n",
       "      <td>Activity</td>\n",
       "      <td>NaN</td>\n",
       "      <td>...</td>\n",
       "      <td>NaN</td>\n",
       "      <td>NaN</td>\n",
       "      <td>NaN</td>\n",
       "      <td>NaN</td>\n",
       "      <td>NaN</td>\n",
       "      <td>NaN</td>\n",
       "      <td>0.0</td>\n",
       "      <td>1.0</td>\n",
       "      <td>0.0</td>\n",
       "      <td>1.0</td>\n",
       "    </tr>\n",
       "    <tr>\n",
       "      <th>485</th>\n",
       "      <td>497</td>\n",
       "      <td>hello</td>\n",
       "      <td>0</td>\n",
       "      <td>22</td>\n",
       "      <td>2021-04-12</td>\n",
       "      <td>2021-04-12 11:28:51</td>\n",
       "      <td>Task</td>\n",
       "      <td>TAS</td>\n",
       "      <td>Activity</td>\n",
       "      <td>NaN</td>\n",
       "      <td>...</td>\n",
       "      <td>NaN</td>\n",
       "      <td>NaN</td>\n",
       "      <td>NaN</td>\n",
       "      <td>NaN</td>\n",
       "      <td>NaN</td>\n",
       "      <td>NaN</td>\n",
       "      <td>0.0</td>\n",
       "      <td>1.0</td>\n",
       "      <td>0.0</td>\n",
       "      <td>1.0</td>\n",
       "    </tr>\n",
       "  </tbody>\n",
       "</table>\n",
       "<p>486 rows × 59 columns</p>\n",
       "</div>"
      ],
      "text/plain": [
       "      id                                               name  done  project_id  \\\n",
       "0      1                                        Maintenance     0           2   \n",
       "1      2                                       Projet CARPA     0           2   \n",
       "2      3                    Projet Tri / Réconciliation CHQ     0           2   \n",
       "3      4                                     AT Description     0          15   \n",
       "4      5                                       Modélisation     0          15   \n",
       "..   ...                                                ...   ...         ...   \n",
       "481  493                                   Phase 1: Cadrage     0         102   \n",
       "482  494  Phase 2: Définition de la stratégie de choix e...     0         102   \n",
       "483  495                  Phase 3: Dépouillement des offres     0         102   \n",
       "484  496        Phase 4: Assistance à la contractualisation     0         102   \n",
       "485  497                                              hello     0          22   \n",
       "\n",
       "    creationDate   lastUpdateDateTime  type type_code     scope  planningmode  \\\n",
       "0     2018-02-19  2018-02-19 16:17:24  Task       TAS  Activity           NaN   \n",
       "1     2018-02-19  2018-02-19 16:18:49  Task       TAS  Activity           NaN   \n",
       "2     2018-02-19  2018-02-19 16:20:07  Task       TAS  Activity           NaN   \n",
       "3     2018-02-19  2018-02-19 16:24:31  Task       TAS  Activity           NaN   \n",
       "4     2018-02-19  2018-02-19 16:34:43  Task       TAS  Activity           NaN   \n",
       "..           ...                  ...   ...       ...       ...           ...   \n",
       "481   2021-01-20  2021-01-20 11:47:06  Task       TAS  Activity           NaN   \n",
       "482   2021-01-20  2021-01-20 11:48:15  Task       TAS  Activity           NaN   \n",
       "483   2021-01-20  2021-01-20 11:49:09  Task       TAS  Activity           NaN   \n",
       "484   2021-01-20  2021-01-20 11:49:59  Task       TAS  Activity           NaN   \n",
       "485   2021-04-12  2021-04-12 11:28:51  Task       TAS  Activity           NaN   \n",
       "\n",
       "     ...  totalLeftCost  totalValidatedCost marginWork  marginCost  \\\n",
       "0    ...            NaN                 NaN        NaN         NaN   \n",
       "1    ...            NaN                 NaN        NaN         NaN   \n",
       "2    ...            NaN                 NaN        NaN         NaN   \n",
       "3    ...            NaN                 NaN        NaN         NaN   \n",
       "4    ...            NaN                 NaN        NaN         NaN   \n",
       "..   ...            ...                 ...        ...         ...   \n",
       "481  ...            NaN                 NaN        NaN         NaN   \n",
       "482  ...            NaN                 NaN        NaN         NaN   \n",
       "483  ...            NaN                 NaN        NaN         NaN   \n",
       "484  ...            NaN                 NaN        NaN         NaN   \n",
       "485  ...            NaN                 NaN        NaN         NaN   \n",
       "\n",
       "     marginWorkPct marginCostPct plannedStartFraction  plannedEndFraction  \\\n",
       "0              NaN           NaN                  0.0                 1.0   \n",
       "1              NaN           NaN                  0.0                 1.0   \n",
       "2              NaN           NaN                  0.0                 1.0   \n",
       "3              NaN           NaN                  0.0                 1.0   \n",
       "4              NaN           NaN                  0.0                 1.0   \n",
       "..             ...           ...                  ...                 ...   \n",
       "481            NaN           NaN                  0.0                 1.0   \n",
       "482            NaN           NaN                  0.0                 1.0   \n",
       "483            NaN           NaN                  0.0                 1.0   \n",
       "484            NaN           NaN                  0.0                 1.0   \n",
       "485            NaN           NaN                  0.0                 1.0   \n",
       "\n",
       "    validatedStartFraction validatedEndFraction  \n",
       "0                      0.0                  1.0  \n",
       "1                      0.0                  1.0  \n",
       "2                      0.0                  1.0  \n",
       "3                      0.0                  1.0  \n",
       "4                      0.0                  1.0  \n",
       "..                     ...                  ...  \n",
       "481                    0.0                  1.0  \n",
       "482                    0.0                  1.0  \n",
       "483                    0.0                  1.0  \n",
       "484                    0.0                  1.0  \n",
       "485                    0.0                  1.0  \n",
       "\n",
       "[486 rows x 59 columns]"
      ]
     },
     "execution_count": 2,
     "metadata": {},
     "output_type": "execute_result"
    }
   ],
   "source": [
    "XXX"
   ]
  },
  {
   "cell_type": "code",
   "execution_count": 3,
   "metadata": {},
   "outputs": [
    {
     "name": "stderr",
     "output_type": "stream",
     "text": [
      "<ipython-input-3-d59649d83ed5>:21: SettingWithCopyWarning: \n",
      "A value is trying to be set on a copy of a slice from a DataFrame.\n",
      "Try using .loc[row_indexer,col_indexer] = value instead\n",
      "\n",
      "See the caveats in the documentation: https://pandas.pydata.org/pandas-docs/stable/user_guide/indexing.html#returning-a-view-versus-a-copy\n",
      "  XX[\"status\"] = XXX[\"status\"].map(status)\n",
      "<ipython-input-3-d59649d83ed5>:22: SettingWithCopyWarning: \n",
      "A value is trying to be set on a copy of a slice from a DataFrame.\n",
      "Try using .loc[row_indexer,col_indexer] = value instead\n",
      "\n",
      "See the caveats in the documentation: https://pandas.pydata.org/pandas-docs/stable/user_guide/indexing.html#returning-a-view-versus-a-copy\n",
      "  XX[\"type\"] = XXX[\"type\"].map(tp)\n"
     ]
    },
    {
     "data": {
      "text/html": [
       "<div>\n",
       "<style scoped>\n",
       "    .dataframe tbody tr th:only-of-type {\n",
       "        vertical-align: middle;\n",
       "    }\n",
       "\n",
       "    .dataframe tbody tr th {\n",
       "        vertical-align: top;\n",
       "    }\n",
       "\n",
       "    .dataframe thead th {\n",
       "        text-align: right;\n",
       "    }\n",
       "</style>\n",
       "<table border=\"1\" class=\"dataframe\">\n",
       "  <thead>\n",
       "    <tr style=\"text-align: right;\">\n",
       "      <th></th>\n",
       "      <th>done</th>\n",
       "      <th>type</th>\n",
       "      <th>status</th>\n",
       "      <th>realWork</th>\n",
       "      <th>realCost</th>\n",
       "      <th>realDuration</th>\n",
       "      <th>progress</th>\n",
       "    </tr>\n",
       "  </thead>\n",
       "  <tbody>\n",
       "    <tr>\n",
       "      <th>0</th>\n",
       "      <td>0</td>\n",
       "      <td>1</td>\n",
       "      <td>1</td>\n",
       "      <td>17.25</td>\n",
       "      <td>0.0</td>\n",
       "      <td>93.0</td>\n",
       "      <td>100</td>\n",
       "    </tr>\n",
       "    <tr>\n",
       "      <th>1</th>\n",
       "      <td>0</td>\n",
       "      <td>1</td>\n",
       "      <td>1</td>\n",
       "      <td>44.25</td>\n",
       "      <td>0.0</td>\n",
       "      <td>87.0</td>\n",
       "      <td>100</td>\n",
       "    </tr>\n",
       "    <tr>\n",
       "      <th>2</th>\n",
       "      <td>0</td>\n",
       "      <td>1</td>\n",
       "      <td>1</td>\n",
       "      <td>27.00</td>\n",
       "      <td>0.0</td>\n",
       "      <td>95.0</td>\n",
       "      <td>100</td>\n",
       "    </tr>\n",
       "    <tr>\n",
       "      <th>3</th>\n",
       "      <td>0</td>\n",
       "      <td>1</td>\n",
       "      <td>1</td>\n",
       "      <td>0.50</td>\n",
       "      <td>0.0</td>\n",
       "      <td>1.0</td>\n",
       "      <td>100</td>\n",
       "    </tr>\n",
       "    <tr>\n",
       "      <th>4</th>\n",
       "      <td>0</td>\n",
       "      <td>1</td>\n",
       "      <td>1</td>\n",
       "      <td>0.00</td>\n",
       "      <td>0.0</td>\n",
       "      <td>0.0</td>\n",
       "      <td>0</td>\n",
       "    </tr>\n",
       "    <tr>\n",
       "      <th>...</th>\n",
       "      <td>...</td>\n",
       "      <td>...</td>\n",
       "      <td>...</td>\n",
       "      <td>...</td>\n",
       "      <td>...</td>\n",
       "      <td>...</td>\n",
       "      <td>...</td>\n",
       "    </tr>\n",
       "    <tr>\n",
       "      <th>481</th>\n",
       "      <td>0</td>\n",
       "      <td>1</td>\n",
       "      <td>1</td>\n",
       "      <td>1.25</td>\n",
       "      <td>0.0</td>\n",
       "      <td>5.0</td>\n",
       "      <td>100</td>\n",
       "    </tr>\n",
       "    <tr>\n",
       "      <th>482</th>\n",
       "      <td>0</td>\n",
       "      <td>1</td>\n",
       "      <td>1</td>\n",
       "      <td>4.50</td>\n",
       "      <td>0.0</td>\n",
       "      <td>9.0</td>\n",
       "      <td>100</td>\n",
       "    </tr>\n",
       "    <tr>\n",
       "      <th>483</th>\n",
       "      <td>0</td>\n",
       "      <td>1</td>\n",
       "      <td>1</td>\n",
       "      <td>0.00</td>\n",
       "      <td>0.0</td>\n",
       "      <td>0.0</td>\n",
       "      <td>0</td>\n",
       "    </tr>\n",
       "    <tr>\n",
       "      <th>484</th>\n",
       "      <td>0</td>\n",
       "      <td>1</td>\n",
       "      <td>1</td>\n",
       "      <td>0.00</td>\n",
       "      <td>0.0</td>\n",
       "      <td>0.0</td>\n",
       "      <td>0</td>\n",
       "    </tr>\n",
       "    <tr>\n",
       "      <th>485</th>\n",
       "      <td>0</td>\n",
       "      <td>1</td>\n",
       "      <td>1</td>\n",
       "      <td>0.00</td>\n",
       "      <td>0.0</td>\n",
       "      <td>0.0</td>\n",
       "      <td>0</td>\n",
       "    </tr>\n",
       "  </tbody>\n",
       "</table>\n",
       "<p>486 rows × 7 columns</p>\n",
       "</div>"
      ],
      "text/plain": [
       "     done  type  status  realWork  realCost  realDuration  progress\n",
       "0       0     1       1     17.25       0.0          93.0       100\n",
       "1       0     1       1     44.25       0.0          87.0       100\n",
       "2       0     1       1     27.00       0.0          95.0       100\n",
       "3       0     1       1      0.50       0.0           1.0       100\n",
       "4       0     1       1      0.00       0.0           0.0         0\n",
       "..    ...   ...     ...       ...       ...           ...       ...\n",
       "481     0     1       1      1.25       0.0           5.0       100\n",
       "482     0     1       1      4.50       0.0           9.0       100\n",
       "483     0     1       1      0.00       0.0           0.0         0\n",
       "484     0     1       1      0.00       0.0           0.0         0\n",
       "485     0     1       1      0.00       0.0           0.0         0\n",
       "\n",
       "[486 rows x 7 columns]"
      ]
     },
     "execution_count": 3,
     "metadata": {},
     "output_type": "execute_result"
    }
   ],
   "source": [
    "status = {\n",
    "\"recorded\": 1,\n",
    "\"qualified\": 2,\n",
    "\"in progress\": 3,\n",
    "\"done\": 4,\n",
    "\"verified\": 5,\n",
    "\"delivered\": 6,\n",
    "\"closed\": 7,\n",
    "\"re-opened\": 8,\n",
    "\"cancelled\": 9,\n",
    "\"assigned\": 10,\n",
    "\"accepted\": 11,\n",
    "\"validated\": 12,\n",
    "\"prepared\": 13,\n",
    "\"copied\": 14\n",
    "}\n",
    "tp = {\n",
    "\"Task\": 1\n",
    "}\n",
    "XX =  XXX[['done','type','status','realWork','realCost','realDuration','progress']]\n",
    "XX[\"status\"] = XXX[\"status\"].map(status)\n",
    "XX[\"type\"] = XXX[\"type\"].map(tp)\n",
    "X = XX.replace(numpy.nan,0)\n",
    "X"
   ]
  },
  {
   "cell_type": "code",
   "execution_count": 4,
   "metadata": {},
   "outputs": [
    {
     "name": "stdout",
     "output_type": "stream",
     "text": [
      "(486, 7)\n",
      "     done  type  status  realWork  realCost  realDuration  progress\n",
      "0       0     1       1     17.25       0.0          93.0       100\n",
      "1       0     1       1     44.25       0.0          87.0       100\n",
      "2       0     1       1     27.00       0.0          95.0       100\n",
      "3       0     1       1      0.50       0.0           1.0       100\n",
      "4       0     1       1      0.00       0.0           0.0         0\n",
      "..    ...   ...     ...       ...       ...           ...       ...\n",
      "481     0     1       1      1.25       0.0           5.0       100\n",
      "482     0     1       1      4.50       0.0           9.0       100\n",
      "483     0     1       1      0.00       0.0           0.0         0\n",
      "484     0     1       1      0.00       0.0           0.0         0\n",
      "485     0     1       1      0.00       0.0           0.0         0\n",
      "\n",
      "[486 rows x 7 columns]\n"
     ]
    }
   ],
   "source": [
    "#dimension\n",
    "print(X.shape) # (18, 6)\n",
    "#nombre d'observations\n",
    "n = X.shape[0]\n",
    "#nombre de variables\n",
    "p = X.shape[1]\n",
    "#affichage des données\n",
    "print(X)"
   ]
  },
  {
   "cell_type": "code",
   "execution_count": 5,
   "metadata": {},
   "outputs": [
    {
     "name": "stdout",
     "output_type": "stream",
     "text": [
      "0.23.2\n"
     ]
    }
   ],
   "source": [
    "#scikit-learn\n",
    "import sklearn\n",
    "#vérification de la version\n",
    "print(sklearn.__version__) # 0.19.1"
   ]
  },
  {
   "cell_type": "code",
   "execution_count": 6,
   "metadata": {},
   "outputs": [
    {
     "name": "stdout",
     "output_type": "stream",
     "text": [
      "[[ 0.00000000e+00  0.00000000e+00 -1.27807882e-01 ... -7.60398201e-02\n",
      "   4.07616939e-02  5.56211327e-01]\n",
      " [ 0.00000000e+00  0.00000000e+00 -1.27807882e-01 ... -7.60398201e-02\n",
      "   9.28885787e-04  5.56211327e-01]\n",
      " [ 0.00000000e+00  0.00000000e+00 -1.27807882e-01 ... -7.60398201e-02\n",
      "   5.40392966e-02  5.56211327e-01]\n",
      " ...\n",
      " [ 0.00000000e+00  0.00000000e+00 -1.27807882e-01 ... -7.60398201e-02\n",
      "  -5.76646832e-01 -1.82063475e+00]\n",
      " [ 0.00000000e+00  0.00000000e+00 -1.27807882e-01 ... -7.60398201e-02\n",
      "  -5.76646832e-01 -1.82063475e+00]\n",
      " [ 0.00000000e+00  0.00000000e+00 -1.27807882e-01 ... -7.60398201e-02\n",
      "  -5.76646832e-01 -1.82063475e+00]]\n"
     ]
    }
   ],
   "source": [
    "#classe pour standardisation\n",
    "from sklearn.preprocessing import StandardScaler\n",
    "#instanciation\n",
    "sc = StandardScaler()\n",
    "#transformation – centrage-réduction\n",
    "Z = sc.fit_transform(X)\n",
    "print(Z)"
   ]
  },
  {
   "cell_type": "code",
   "execution_count": 7,
   "metadata": {},
   "outputs": [
    {
     "name": "stdout",
     "output_type": "stream",
     "text": [
      "[ 0.00000000e+00  0.00000000e+00  6.57909941e-17 -1.46202209e-17\n",
      "  1.46202209e-17 -1.46202209e-17  1.82752761e-16]\n"
     ]
    }
   ],
   "source": [
    "#moyenne\n",
    "print(numpy.mean(Z,axis=0))"
   ]
  },
  {
   "cell_type": "code",
   "execution_count": 8,
   "metadata": {},
   "outputs": [
    {
     "name": "stdout",
     "output_type": "stream",
     "text": [
      "[0. 0. 1. 1. 1. 1. 1.]\n"
     ]
    }
   ],
   "source": [
    "#écart-type\n",
    "print(numpy.std(Z,axis=0,ddof=0))"
   ]
  },
  {
   "cell_type": "code",
   "execution_count": 9,
   "metadata": {},
   "outputs": [],
   "source": [
    "#classe pour l'ACP\n",
    "from sklearn.decomposition import PCA\n",
    "#instanciation\n",
    "acp = PCA(svd_solver='full')"
   ]
  },
  {
   "cell_type": "code",
   "execution_count": 10,
   "metadata": {},
   "outputs": [
    {
     "name": "stdout",
     "output_type": "stream",
     "text": [
      "PCA(svd_solver='full')\n"
     ]
    }
   ],
   "source": [
    "#affichage des paramètres\n",
    "print(acp)"
   ]
  },
  {
   "cell_type": "code",
   "execution_count": 11,
   "metadata": {},
   "outputs": [
    {
     "name": "stdout",
     "output_type": "stream",
     "text": [
      "7\n"
     ]
    }
   ],
   "source": [
    "#calculs\n",
    "coord = acp.fit_transform(Z)\n",
    "#nombre de composantes calculées\n",
    "print(acp.n_components_) # 5\n"
   ]
  },
  {
   "cell_type": "code",
   "execution_count": 12,
   "metadata": {},
   "outputs": [
    {
     "name": "stdout",
     "output_type": "stream",
     "text": [
      "[1.67382833e+00 1.01465479e+00 9.97900616e-01 7.23735243e-01\n",
      " 6.00190304e-01 3.98024462e-35 0.00000000e+00]\n"
     ]
    }
   ],
   "source": [
    "#variance expliquée\n",
    "print(acp.explained_variance_)"
   ]
  },
  {
   "cell_type": "code",
   "execution_count": 13,
   "metadata": {},
   "outputs": [
    {
     "name": "stdout",
     "output_type": "stream",
     "text": [
      "[1.67038424e+00 1.01256702e+00 9.95847322e-01 7.22246076e-01\n",
      " 5.98955344e-01 3.97205481e-35 0.00000000e+00]\n"
     ]
    }
   ],
   "source": [
    "#valeur corrigée\n",
    "eigval = (n-1)/n*acp.explained_variance_\n",
    "print(eigval)"
   ]
  },
  {
   "cell_type": "code",
   "execution_count": 14,
   "metadata": {},
   "outputs": [
    {
     "name": "stdout",
     "output_type": "stream",
     "text": [
      "[1.67038424e+00 1.01256702e+00 9.95847322e-01 7.22246076e-01\n",
      " 5.98955344e-01 3.97205481e-35 0.00000000e+00]\n"
     ]
    }
   ],
   "source": [
    "#ou bien en passant par les valeurs singulières\n",
    "print(acp.singular_values_**2/n)"
   ]
  },
  {
   "cell_type": "code",
   "execution_count": 15,
   "metadata": {},
   "outputs": [
    {
     "name": "stdout",
     "output_type": "stream",
     "text": [
      "[3.34076847e-01 2.02513405e-01 1.99169464e-01 1.44449215e-01\n",
      " 1.19791069e-01 7.94410962e-36 0.00000000e+00]\n"
     ]
    }
   ],
   "source": [
    "#proportion de variance expliquée\n",
    "print(acp.explained_variance_ratio_)"
   ]
  },
  {
   "cell_type": "code",
   "execution_count": 16,
   "metadata": {},
   "outputs": [
    {
     "data": {
      "image/png": "[encoded data removed]",
      "text/plain": [
       "<Figure size 432x288 with 1 Axes>"
      ]
     },
     "metadata": {
      "needs_background": "light"
     },
     "output_type": "display_data"
    }
   ],
   "source": [
    "#scree plot\n",
    "plt.plot(numpy.arange(1,p+1),eigval)\n",
    "plt.title(\"Scree plot\")\n",
    "plt.ylabel(\"Eigen values\")\n",
    "plt.xlabel(\"Factor number\")\n",
    "plt.show()"
   ]
  },
  {
   "cell_type": "code",
   "execution_count": 17,
   "metadata": {},
   "outputs": [
    {
     "data": {
      "image/png": "[encoded data removed]",
      "text/plain": [
       "<Figure size 432x288 with 1 Axes>"
      ]
     },
     "metadata": {
      "needs_background": "light"
     },
     "output_type": "display_data"
    }
   ],
   "source": [
    "#cumul de variance expliquée\n",
    "plt.plot(numpy.arange(1,p+1),numpy.cumsum(acp.explained_variance_ratio_))\n",
    "plt.title(\"Explained variance vs. # of factors\")\n",
    "plt.ylabel(\"Cumsum explained variance ratio\")\n",
    "plt.xlabel(\"Factor number\")\n",
    "plt.show()"
   ]
  },
  {
   "cell_type": "code",
   "execution_count": 18,
   "metadata": {},
   "outputs": [],
   "source": [
    "#seuils pour test des bâtons brisés\n",
    "bs = 1/numpy.arange(p,0,-1)\n",
    "bs = numpy.cumsum(bs)\n",
    "bs = bs[::-1]"
   ]
  },
  {
   "cell_type": "code",
   "execution_count": 19,
   "metadata": {},
   "outputs": [
    {
     "name": "stdout",
     "output_type": "stream",
     "text": [
      "     Val.Propre    Seuils\n",
      "0  1.670384e+00  2.592857\n",
      "1  1.012567e+00  1.592857\n",
      "2  9.958473e-01  1.092857\n",
      "3  7.222461e-01  0.759524\n",
      "4  5.989553e-01  0.509524\n",
      "5  3.972055e-35  0.309524\n",
      "6  0.000000e+00  0.142857\n"
     ]
    }
   ],
   "source": [
    "#test des bâtons brisés\n",
    "print(pandas.DataFrame({'Val.Propre':eigval,'Seuils':bs}))"
   ]
  },
  {
   "cell_type": "code",
   "execution_count": 21,
   "metadata": {},
   "outputs": [
    {
     "data": {
      "image/png": "[encoded data removed]",
      "text/plain": [
       "<Figure size 864x864 with 1 Axes>"
      ]
     },
     "metadata": {
      "needs_background": "light"
     },
     "output_type": "display_data"
    }
   ],
   "source": [
    "#positionnement des individus dans le premier plan\n",
    "fig, axes = plt.subplots(figsize=(12,12))\n",
    "axes.set_xlim(-6,6) #même limites en abscisse\n",
    "axes.set_ylim(-6,6) #et en ordonnée\n",
    "#placement des étiquettes des observations\n",
    "for i in range(n):\n",
    " plt.annotate(X.index[i],(coord[i,0],coord[i,1]))\n",
    "#ajouter les axes\n",
    "plt.plot([-6,6],[0,0],color='silver',linestyle='-',linewidth=1)\n",
    "plt.plot([0,0],[-6,6],color='silver',linestyle='-',linewidth=1)\n",
    "#affichage\n",
    "plt.show()"
   ]
  },
  {
   "cell_type": "code",
   "execution_count": 22,
   "metadata": {},
   "outputs": [
    {
     "name": "stdout",
     "output_type": "stream",
     "text": [
      "      ID       d_i\n",
      "0      0  0.357336\n",
      "1      1  0.332281\n",
      "2      2  0.342365\n",
      "3      3  0.729004\n",
      "4      4  3.743801\n",
      "..   ...       ...\n",
      "481  481  0.696713\n",
      "482  482  0.657356\n",
      "483  483  3.743801\n",
      "484  484  3.743801\n",
      "485  485  3.743801\n",
      "\n",
      "[486 rows x 2 columns]\n"
     ]
    }
   ],
   "source": [
    "#contribution des individus dans l'inertie totale\n",
    "di = numpy.sum(Z**2,axis=1)\n",
    "print(pandas.DataFrame({'ID':X.index,'d_i':di}))"
   ]
  },
  {
   "cell_type": "code",
   "execution_count": 23,
   "metadata": {},
   "outputs": [
    {
     "name": "stdout",
     "output_type": "stream",
     "text": [
      "      id    COS2_1    COS2_2\n",
      "0      0  0.063339  0.276903\n",
      "1      1  0.157673  0.206415\n",
      "2      2  0.111169  0.264594\n",
      "3      3  0.102318  0.067799\n",
      "4      4  0.456112  0.307507\n",
      "..   ...       ...       ...\n",
      "481  481  0.093049  0.073500\n",
      "482  482  0.078166  0.077779\n",
      "483  483  0.456112  0.307507\n",
      "484  484  0.456112  0.307507\n",
      "485  485  0.456112  0.307507\n",
      "\n",
      "[486 rows x 3 columns]\n"
     ]
    }
   ],
   "source": [
    "#qualité de représentation des individus - COS2\n",
    "cos2 = coord**2\n",
    "for j in range(p):\n",
    " cos2[:,j] = cos2[:,j]/di\n",
    "print(pandas.DataFrame({'id':X.index,'COS2_1':cos2[:,0],'COS2_2':cos2[:,1]}))"
   ]
  },
  {
   "cell_type": "code",
   "execution_count": 24,
   "metadata": {},
   "outputs": [
    {
     "name": "stdout",
     "output_type": "stream",
     "text": [
      "[1. 1. 1. 1. 1. 1. 1. 1. 1. 1. 1. 1. 1. 1. 1. 1. 1. 1. 1. 1. 1. 1. 1. 1.\n",
      " 1. 1. 1. 1. 1. 1. 1. 1. 1. 1. 1. 1. 1. 1. 1. 1. 1. 1. 1. 1. 1. 1. 1. 1.\n",
      " 1. 1. 1. 1. 1. 1. 1. 1. 1. 1. 1. 1. 1. 1. 1. 1. 1. 1. 1. 1. 1. 1. 1. 1.\n",
      " 1. 1. 1. 1. 1. 1. 1. 1. 1. 1. 1. 1. 1. 1. 1. 1. 1. 1. 1. 1. 1. 1. 1. 1.\n",
      " 1. 1. 1. 1. 1. 1. 1. 1. 1. 1. 1. 1. 1. 1. 1. 1. 1. 1. 1. 1. 1. 1. 1. 1.\n",
      " 1. 1. 1. 1. 1. 1. 1. 1. 1. 1. 1. 1. 1. 1. 1. 1. 1. 1. 1. 1. 1. 1. 1. 1.\n",
      " 1. 1. 1. 1. 1. 1. 1. 1. 1. 1. 1. 1. 1. 1. 1. 1. 1. 1. 1. 1. 1. 1. 1. 1.\n",
      " 1. 1. 1. 1. 1. 1. 1. 1. 1. 1. 1. 1. 1. 1. 1. 1. 1. 1. 1. 1. 1. 1. 1. 1.\n",
      " 1. 1. 1. 1. 1. 1. 1. 1. 1. 1. 1. 1. 1. 1. 1. 1. 1. 1. 1. 1. 1. 1. 1. 1.\n",
      " 1. 1. 1. 1. 1. 1. 1. 1. 1. 1. 1. 1. 1. 1. 1. 1. 1. 1. 1. 1. 1. 1. 1. 1.\n",
      " 1. 1. 1. 1. 1. 1. 1. 1. 1. 1. 1. 1. 1. 1. 1. 1. 1. 1. 1. 1. 1. 1. 1. 1.\n",
      " 1. 1. 1. 1. 1. 1. 1. 1. 1. 1. 1. 1. 1. 1. 1. 1. 1. 1. 1. 1. 1. 1. 1. 1.\n",
      " 1. 1. 1. 1. 1. 1. 1. 1. 1. 1. 1. 1. 1. 1. 1. 1. 1. 1. 1. 1. 1. 1. 1. 1.\n",
      " 1. 1. 1. 1. 1. 1. 1. 1. 1. 1. 1. 1. 1. 1. 1. 1. 1. 1. 1. 1. 1. 1. 1. 1.\n",
      " 1. 1. 1. 1. 1. 1. 1. 1. 1. 1. 1. 1. 1. 1. 1. 1. 1. 1. 1. 1. 1. 1. 1. 1.\n",
      " 1. 1. 1. 1. 1. 1. 1. 1. 1. 1. 1. 1. 1. 1. 1. 1. 1. 1. 1. 1. 1. 1. 1. 1.\n",
      " 1. 1. 1. 1. 1. 1. 1. 1. 1. 1. 1. 1. 1. 1. 1. 1. 1. 1. 1. 1. 1. 1. 1. 1.\n",
      " 1. 1. 1. 1. 1. 1. 1. 1. 1. 1. 1. 1. 1. 1. 1. 1. 1. 1. 1. 1. 1. 1. 1. 1.\n",
      " 1. 1. 1. 1. 1. 1. 1. 1. 1. 1. 1. 1. 1. 1. 1. 1. 1. 1. 1. 1. 1. 1. 1. 1.\n",
      " 1. 1. 1. 1. 1. 1. 1. 1. 1. 1. 1. 1. 1. 1. 1. 1. 1. 1. 1. 1. 1. 1. 1. 1.\n",
      " 1. 1. 1. 1. 1. 1.]\n"
     ]
    }
   ],
   "source": [
    "#vérifions la théorie - somme en ligne des cos2 = 1\n",
    "print(numpy.sum(cos2,axis=1))"
   ]
  },
  {
   "cell_type": "code",
   "execution_count": 25,
   "metadata": {},
   "outputs": [
    {
     "name": "stdout",
     "output_type": "stream",
     "text": [
      "      id     CTR_1     CTR_2\n",
      "0      0  0.000028  0.000201\n",
      "1      1  0.000065  0.000139\n",
      "2      2  0.000047  0.000184\n",
      "3      3  0.000092  0.000100\n",
      "4      4  0.002103  0.002339\n",
      "..   ...       ...       ...\n",
      "481  481  0.000080  0.000104\n",
      "482  482  0.000063  0.000104\n",
      "483  483  0.002103  0.002339\n",
      "484  484  0.002103  0.002339\n",
      "485  485  0.002103  0.002339\n",
      "\n",
      "[486 rows x 3 columns]\n"
     ]
    },
    {
     "name": "stderr",
     "output_type": "stream",
     "text": [
      "<ipython-input-25-fd3a4aecee80>:4: RuntimeWarning: invalid value encountered in true_divide\n",
      "  ctr[:,j] = ctr[:,j]/(n*eigval[j])\n"
     ]
    }
   ],
   "source": [
    "#contributions aux axes\n",
    "ctr = coord**2\n",
    "for j in range(p):\n",
    " ctr[:,j] = ctr[:,j]/(n*eigval[j])\n",
    "\n",
    "print(pandas.DataFrame({'id':X.index,'CTR_1':ctr[:,0],'CTR_2':ctr[:,1]}))"
   ]
  },
  {
   "cell_type": "code",
   "execution_count": 26,
   "metadata": {},
   "outputs": [
    {
     "name": "stdout",
     "output_type": "stream",
     "text": [
      "[ 1.  1.  1.  1.  1.  1. nan]\n"
     ]
    }
   ],
   "source": [
    "#vérifions la théorie\n",
    "print(numpy.sum(ctr,axis=0))"
   ]
  },
  {
   "cell_type": "code",
   "execution_count": 27,
   "metadata": {},
   "outputs": [
    {
     "name": "stdout",
     "output_type": "stream",
     "text": [
      "[[-0.00000000e+00 -1.11022302e-16 -1.78791793e-02  5.55090913e-01\n",
      "   3.95649828e-01  5.89928305e-01  4.32435223e-01]\n",
      " [-0.00000000e+00 -1.11022302e-16 -5.78597083e-01  2.44133436e-01\n",
      "   5.19831713e-01 -1.96566244e-01 -5.44757728e-01]\n",
      " [ 0.00000000e+00  0.00000000e+00  8.11919811e-01  1.17754616e-01\n",
      "   4.34838678e-01 -1.20387878e-01 -3.51201015e-01]\n",
      " [ 0.00000000e+00 -0.00000000e+00 -6.96919124e-02 -5.74940431e-01\n",
      "   6.14197809e-01 -2.28501982e-01  4.84906623e-01]\n",
      " [-0.00000000e+00  0.00000000e+00  2.88965030e-02  5.36516817e-01\n",
      "  -8.31419142e-02 -7.39351006e-01  3.97192912e-01]\n",
      " [-0.00000000e+00 -1.00000000e+00  5.55111512e-17  0.00000000e+00\n",
      "  -5.55111512e-17  2.77555756e-17  0.00000000e+00]\n",
      " [ 1.00000000e+00  0.00000000e+00  0.00000000e+00  0.00000000e+00\n",
      "   0.00000000e+00  0.00000000e+00  0.00000000e+00]]\n"
     ]
    }
   ],
   "source": [
    "#le champ components_ de l'objet ACP\n",
    "print(acp.components_)"
   ]
  },
  {
   "cell_type": "code",
   "execution_count": 28,
   "metadata": {},
   "outputs": [],
   "source": [
    "#racine carrée des valeurs propres\n",
    "sqrt_eigval = numpy.sqrt(eigval)"
   ]
  },
  {
   "cell_type": "code",
   "execution_count": 29,
   "metadata": {},
   "outputs": [
    {
     "name": "stdout",
     "output_type": "stream",
     "text": [
      "[[-0.00000000e+00 -0.00000000e+00  0.00000000e+00  0.00000000e+00\n",
      "  -0.00000000e+00 -0.00000000e+00  0.00000000e+00]\n",
      " [-1.43488938e-16 -1.11717734e-16  0.00000000e+00 -0.00000000e+00\n",
      "   0.00000000e+00 -6.30242399e-18  0.00000000e+00]\n",
      " [-2.31076495e-02 -5.82221353e-01  8.10232237e-01 -5.92277149e-02\n",
      "   2.23636410e-02  3.49854811e-34  0.00000000e+00]\n",
      " [ 7.17418066e-01  2.45662662e-01  1.17509864e-01 -4.88613481e-01\n",
      "   4.15222197e-01  0.00000000e+00  0.00000000e+00]\n",
      " [ 5.11351075e-01  5.23087883e-01  4.33934867e-01  5.21976389e-01\n",
      "  -6.43453609e-02 -3.49854811e-34  0.00000000e+00]\n",
      " [ 7.62443077e-01 -1.97797514e-01 -1.20137652e-01 -1.94192551e-01\n",
      "  -5.72200048e-01  1.74927406e-34  0.00000000e+00]\n",
      " [ 5.58893749e-01 -5.48170032e-01 -3.50471044e-01  4.12098194e-01\n",
      "   3.07396354e-01  0.00000000e+00  0.00000000e+00]]\n"
     ]
    }
   ],
   "source": [
    "#corrélation des variables avec les axes\n",
    "corvar = numpy.zeros((p,p))\n",
    "for k in range(p):\n",
    " corvar[:,k] = acp.components_[k,:] * sqrt_eigval[k]\n",
    "\n",
    "#afficher la matrice des corrélations variables x facteurs\n",
    "print(corvar)"
   ]
  },
  {
   "cell_type": "code",
   "execution_count": 30,
   "metadata": {},
   "outputs": [
    {
     "name": "stdout",
     "output_type": "stream",
     "text": [
      "             id         COR_1         COR_2\n",
      "0          done -0.000000e+00 -0.000000e+00\n",
      "1          type -1.434889e-16 -1.117177e-16\n",
      "2        status -2.310765e-02 -5.822214e-01\n",
      "3      realWork  7.174181e-01  2.456627e-01\n",
      "4      realCost  5.113511e-01  5.230879e-01\n",
      "5  realDuration  7.624431e-01 -1.977975e-01\n",
      "6      progress  5.588937e-01 -5.481700e-01\n"
     ]
    }
   ],
   "source": [
    "#on affiche pour les deux premiers axes\n",
    "print(pandas.DataFrame({'id':X.columns,'COR_1':corvar[:,0],'COR_2':corvar[:,1]}))"
   ]
  },
  {
   "cell_type": "code",
   "execution_count": 31,
   "metadata": {},
   "outputs": [
    {
     "data": {
      "image/png": "[encoded data removed]",
      "text/plain": [
       "<Figure size 576x576 with 1 Axes>"
      ]
     },
     "metadata": {
      "needs_background": "light"
     },
     "output_type": "display_data"
    }
   ],
   "source": [
    "#cercle des corrélations\n",
    "fig, axes = plt.subplots(figsize=(8,8))\n",
    "axes.set_xlim(-1,1)\n",
    "axes.set_ylim(-1,1)\n",
    "#affichage des étiquettes (noms des variables)\n",
    "for j in range(p):\n",
    " plt.annotate(X.columns[j],(corvar[j,0],corvar[j,1]))\n",
    "\n",
    "#ajouter les axes\n",
    "plt.plot([-1,1],[0,0],color='silver',linestyle='-',linewidth=1)\n",
    "plt.plot([0,0],[-1,1],color='silver',linestyle='-',linewidth=1)\n",
    "#ajouter un cercle\n",
    "cercle = plt.Circle((0,0),1,color='blue',fill=False)\n",
    "axes.add_artist(cercle)\n",
    "#affichage\n",
    "plt.show()\n"
   ]
  },
  {
   "cell_type": "code",
   "execution_count": null,
   "metadata": {},
   "outputs": [],
   "source": []
  }
 ],
 "metadata": {
  "kernelspec": {
   "display_name": "Python 3",
   "language": "python",
   "name": "python3"
  },
  "language_info": {
   "codemirror_mode": {
    "name": "ipython",
    "version": 3
   },
   "file_extension": ".py",
   "mimetype": "text/x-python",
   "name": "python",
   "nbconvert_exporter": "python",
   "pygments_lexer": "ipython3",
   "version": "3.8.5"
  }
 },
 "nbformat": 4,
 "nbformat_minor": 4
}
