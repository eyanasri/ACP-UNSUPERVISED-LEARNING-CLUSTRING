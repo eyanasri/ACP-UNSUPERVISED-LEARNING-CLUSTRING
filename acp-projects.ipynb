{
 "cells": [
  {
   "cell_type": "code",
   "execution_count": 86,
   "metadata": {},
   "outputs": [
    {
     "name": "stdout",
     "output_type": "stream",
     "text": [
      "1.1.3\n"
     ]
    }
   ],
   "source": [
    "#librairie pandas\n",
    "import pandas\n",
    "import numpy\n",
    "import matplotlib.pyplot as plt\n",
    "#version\n",
    "print(pandas.__version__) # 0.23.0\n",
    "#chargement de la première feuille de données\n",
    "XXX = pandas.read_csv(\"projects.csv\")"
   ]
  },
  {
   "cell_type": "code",
   "execution_count": 87,
   "metadata": {},
   "outputs": [
    {
     "data": {
      "text/html": [
       "<div>\n",
       "<style scoped>\n",
       "    .dataframe tbody tr th:only-of-type {\n",
       "        vertical-align: middle;\n",
       "    }\n",
       "\n",
       "    .dataframe tbody tr th {\n",
       "        vertical-align: top;\n",
       "    }\n",
       "\n",
       "    .dataframe thead th {\n",
       "        text-align: right;\n",
       "    }\n",
       "</style>\n",
       "<table border=\"1\" class=\"dataframe\">\n",
       "  <thead>\n",
       "    <tr style=\"text-align: right;\">\n",
       "      <th></th>\n",
       "      <th>id</th>\n",
       "      <th>name</th>\n",
       "      <th>client_id</th>\n",
       "      <th>idProject</th>\n",
       "      <th>idResource</th>\n",
       "      <th>idProjectType</th>\n",
       "      <th>idStatus</th>\n",
       "      <th>done</th>\n",
       "      <th>doneDate</th>\n",
       "      <th>creationDate</th>\n",
       "      <th>...</th>\n",
       "      <th>status</th>\n",
       "      <th>setDoneStatus</th>\n",
       "      <th>setHandledStatus</th>\n",
       "      <th>day</th>\n",
       "      <th>realWork</th>\n",
       "      <th>leftWork</th>\n",
       "      <th>realCost</th>\n",
       "      <th>leftCost</th>\n",
       "      <th>totalRealCost</th>\n",
       "      <th>totalLeftCost</th>\n",
       "    </tr>\n",
       "  </thead>\n",
       "  <tbody>\n",
       "    <tr>\n",
       "      <th>0</th>\n",
       "      <td>1</td>\n",
       "      <td>Project 1</td>\n",
       "      <td>13.0</td>\n",
       "      <td>12.0</td>\n",
       "      <td>12.0</td>\n",
       "      <td>48</td>\n",
       "      <td>1</td>\n",
       "      <td>0</td>\n",
       "      <td>NaN</td>\n",
       "      <td>2018-02-19 00:00:00</td>\n",
       "      <td>...</td>\n",
       "      <td>recorded</td>\n",
       "      <td>0</td>\n",
       "      <td>0</td>\n",
       "      <td>NaN</td>\n",
       "      <td>NaN</td>\n",
       "      <td>NaN</td>\n",
       "      <td>NaN</td>\n",
       "      <td>NaN</td>\n",
       "      <td>NaN</td>\n",
       "      <td>NaN</td>\n",
       "    </tr>\n",
       "    <tr>\n",
       "      <th>1</th>\n",
       "      <td>2</td>\n",
       "      <td>Project 2</td>\n",
       "      <td>15.0</td>\n",
       "      <td>12.0</td>\n",
       "      <td>5.0</td>\n",
       "      <td>48</td>\n",
       "      <td>1</td>\n",
       "      <td>0</td>\n",
       "      <td>NaN</td>\n",
       "      <td>2018-02-19 00:00:00</td>\n",
       "      <td>...</td>\n",
       "      <td>recorded</td>\n",
       "      <td>0</td>\n",
       "      <td>0</td>\n",
       "      <td>20181212.0</td>\n",
       "      <td>113.50</td>\n",
       "      <td>NaN</td>\n",
       "      <td>NaN</td>\n",
       "      <td>NaN</td>\n",
       "      <td>NaN</td>\n",
       "      <td>NaN</td>\n",
       "    </tr>\n",
       "    <tr>\n",
       "      <th>2</th>\n",
       "      <td>3</td>\n",
       "      <td>Project 3</td>\n",
       "      <td>9.0</td>\n",
       "      <td>12.0</td>\n",
       "      <td>12.0</td>\n",
       "      <td>48</td>\n",
       "      <td>1</td>\n",
       "      <td>0</td>\n",
       "      <td>NaN</td>\n",
       "      <td>2018-02-19 00:00:00</td>\n",
       "      <td>...</td>\n",
       "      <td>recorded</td>\n",
       "      <td>0</td>\n",
       "      <td>0</td>\n",
       "      <td>NaN</td>\n",
       "      <td>NaN</td>\n",
       "      <td>NaN</td>\n",
       "      <td>NaN</td>\n",
       "      <td>NaN</td>\n",
       "      <td>NaN</td>\n",
       "      <td>NaN</td>\n",
       "    </tr>\n",
       "    <tr>\n",
       "      <th>3</th>\n",
       "      <td>4</td>\n",
       "      <td>Project 4</td>\n",
       "      <td>7.0</td>\n",
       "      <td>12.0</td>\n",
       "      <td>5.0</td>\n",
       "      <td>48</td>\n",
       "      <td>4</td>\n",
       "      <td>1</td>\n",
       "      <td>2020-09-29 00:00:00</td>\n",
       "      <td>2018-02-19 00:00:00</td>\n",
       "      <td>...</td>\n",
       "      <td>done</td>\n",
       "      <td>1</td>\n",
       "      <td>1</td>\n",
       "      <td>20200605.0</td>\n",
       "      <td>18.75</td>\n",
       "      <td>NaN</td>\n",
       "      <td>775.0</td>\n",
       "      <td>NaN</td>\n",
       "      <td>775.0</td>\n",
       "      <td>NaN</td>\n",
       "    </tr>\n",
       "    <tr>\n",
       "      <th>4</th>\n",
       "      <td>5</td>\n",
       "      <td>Project 5</td>\n",
       "      <td>6.0</td>\n",
       "      <td>12.0</td>\n",
       "      <td>12.0</td>\n",
       "      <td>48</td>\n",
       "      <td>1</td>\n",
       "      <td>0</td>\n",
       "      <td>NaN</td>\n",
       "      <td>2018-02-19 00:00:00</td>\n",
       "      <td>...</td>\n",
       "      <td>recorded</td>\n",
       "      <td>0</td>\n",
       "      <td>0</td>\n",
       "      <td>NaN</td>\n",
       "      <td>NaN</td>\n",
       "      <td>NaN</td>\n",
       "      <td>NaN</td>\n",
       "      <td>NaN</td>\n",
       "      <td>NaN</td>\n",
       "      <td>NaN</td>\n",
       "    </tr>\n",
       "    <tr>\n",
       "      <th>...</th>\n",
       "      <td>...</td>\n",
       "      <td>...</td>\n",
       "      <td>...</td>\n",
       "      <td>...</td>\n",
       "      <td>...</td>\n",
       "      <td>...</td>\n",
       "      <td>...</td>\n",
       "      <td>...</td>\n",
       "      <td>...</td>\n",
       "      <td>...</td>\n",
       "      <td>...</td>\n",
       "      <td>...</td>\n",
       "      <td>...</td>\n",
       "      <td>...</td>\n",
       "      <td>...</td>\n",
       "      <td>...</td>\n",
       "      <td>...</td>\n",
       "      <td>...</td>\n",
       "      <td>...</td>\n",
       "      <td>...</td>\n",
       "      <td>...</td>\n",
       "    </tr>\n",
       "    <tr>\n",
       "      <th>95</th>\n",
       "      <td>98</td>\n",
       "      <td>Project 98</td>\n",
       "      <td>36.0</td>\n",
       "      <td>12.0</td>\n",
       "      <td>5.0</td>\n",
       "      <td>48</td>\n",
       "      <td>1</td>\n",
       "      <td>0</td>\n",
       "      <td>NaN</td>\n",
       "      <td>2020-11-18 00:00:00</td>\n",
       "      <td>...</td>\n",
       "      <td>recorded</td>\n",
       "      <td>0</td>\n",
       "      <td>0</td>\n",
       "      <td>20210108.0</td>\n",
       "      <td>10.50</td>\n",
       "      <td>NaN</td>\n",
       "      <td>NaN</td>\n",
       "      <td>NaN</td>\n",
       "      <td>NaN</td>\n",
       "      <td>NaN</td>\n",
       "    </tr>\n",
       "    <tr>\n",
       "      <th>96</th>\n",
       "      <td>99</td>\n",
       "      <td>Project 99</td>\n",
       "      <td>32.0</td>\n",
       "      <td>12.0</td>\n",
       "      <td>34.0</td>\n",
       "      <td>48</td>\n",
       "      <td>1</td>\n",
       "      <td>0</td>\n",
       "      <td>NaN</td>\n",
       "      <td>2020-11-23 00:00:00</td>\n",
       "      <td>...</td>\n",
       "      <td>recorded</td>\n",
       "      <td>0</td>\n",
       "      <td>0</td>\n",
       "      <td>20210122.0</td>\n",
       "      <td>22.25</td>\n",
       "      <td>NaN</td>\n",
       "      <td>NaN</td>\n",
       "      <td>NaN</td>\n",
       "      <td>NaN</td>\n",
       "      <td>NaN</td>\n",
       "    </tr>\n",
       "    <tr>\n",
       "      <th>97</th>\n",
       "      <td>100</td>\n",
       "      <td>Project 100</td>\n",
       "      <td>32.0</td>\n",
       "      <td>12.0</td>\n",
       "      <td>5.0</td>\n",
       "      <td>48</td>\n",
       "      <td>1</td>\n",
       "      <td>0</td>\n",
       "      <td>NaN</td>\n",
       "      <td>2020-11-23 00:00:00</td>\n",
       "      <td>...</td>\n",
       "      <td>recorded</td>\n",
       "      <td>0</td>\n",
       "      <td>0</td>\n",
       "      <td>20210126.0</td>\n",
       "      <td>83.50</td>\n",
       "      <td>NaN</td>\n",
       "      <td>NaN</td>\n",
       "      <td>NaN</td>\n",
       "      <td>NaN</td>\n",
       "      <td>NaN</td>\n",
       "    </tr>\n",
       "    <tr>\n",
       "      <th>98</th>\n",
       "      <td>101</td>\n",
       "      <td>Project 101</td>\n",
       "      <td>46.0</td>\n",
       "      <td>12.0</td>\n",
       "      <td>5.0</td>\n",
       "      <td>48</td>\n",
       "      <td>1</td>\n",
       "      <td>0</td>\n",
       "      <td>NaN</td>\n",
       "      <td>2020-11-26 00:00:00</td>\n",
       "      <td>...</td>\n",
       "      <td>recorded</td>\n",
       "      <td>0</td>\n",
       "      <td>0</td>\n",
       "      <td>20210107.0</td>\n",
       "      <td>24.75</td>\n",
       "      <td>NaN</td>\n",
       "      <td>NaN</td>\n",
       "      <td>NaN</td>\n",
       "      <td>NaN</td>\n",
       "      <td>NaN</td>\n",
       "    </tr>\n",
       "    <tr>\n",
       "      <th>99</th>\n",
       "      <td>102</td>\n",
       "      <td>Project 102</td>\n",
       "      <td>57.0</td>\n",
       "      <td>12.0</td>\n",
       "      <td>5.0</td>\n",
       "      <td>48</td>\n",
       "      <td>1</td>\n",
       "      <td>0</td>\n",
       "      <td>NaN</td>\n",
       "      <td>2021-01-20 00:00:00</td>\n",
       "      <td>...</td>\n",
       "      <td>recorded</td>\n",
       "      <td>0</td>\n",
       "      <td>0</td>\n",
       "      <td>20210125.0</td>\n",
       "      <td>5.75</td>\n",
       "      <td>NaN</td>\n",
       "      <td>NaN</td>\n",
       "      <td>NaN</td>\n",
       "      <td>NaN</td>\n",
       "      <td>NaN</td>\n",
       "    </tr>\n",
       "  </tbody>\n",
       "</table>\n",
       "<p>100 rows × 25 columns</p>\n",
       "</div>"
      ],
      "text/plain": [
       "     id         name  client_id  idProject  idResource  idProjectType  \\\n",
       "0     1    Project 1       13.0       12.0        12.0             48   \n",
       "1     2    Project 2       15.0       12.0         5.0             48   \n",
       "2     3    Project 3        9.0       12.0        12.0             48   \n",
       "3     4    Project 4        7.0       12.0         5.0             48   \n",
       "4     5    Project 5        6.0       12.0        12.0             48   \n",
       "..  ...          ...        ...        ...         ...            ...   \n",
       "95   98   Project 98       36.0       12.0         5.0             48   \n",
       "96   99   Project 99       32.0       12.0        34.0             48   \n",
       "97  100  Project 100       32.0       12.0         5.0             48   \n",
       "98  101  Project 101       46.0       12.0         5.0             48   \n",
       "99  102  Project 102       57.0       12.0         5.0             48   \n",
       "\n",
       "    idStatus  done             doneDate         creationDate  ...    status  \\\n",
       "0          1     0                  NaN  2018-02-19 00:00:00  ...  recorded   \n",
       "1          1     0                  NaN  2018-02-19 00:00:00  ...  recorded   \n",
       "2          1     0                  NaN  2018-02-19 00:00:00  ...  recorded   \n",
       "3          4     1  2020-09-29 00:00:00  2018-02-19 00:00:00  ...      done   \n",
       "4          1     0                  NaN  2018-02-19 00:00:00  ...  recorded   \n",
       "..       ...   ...                  ...                  ...  ...       ...   \n",
       "95         1     0                  NaN  2020-11-18 00:00:00  ...  recorded   \n",
       "96         1     0                  NaN  2020-11-23 00:00:00  ...  recorded   \n",
       "97         1     0                  NaN  2020-11-23 00:00:00  ...  recorded   \n",
       "98         1     0                  NaN  2020-11-26 00:00:00  ...  recorded   \n",
       "99         1     0                  NaN  2021-01-20 00:00:00  ...  recorded   \n",
       "\n",
       "   setDoneStatus setHandledStatus         day realWork leftWork  realCost  \\\n",
       "0              0                0         NaN      NaN      NaN       NaN   \n",
       "1              0                0  20181212.0   113.50      NaN       NaN   \n",
       "2              0                0         NaN      NaN      NaN       NaN   \n",
       "3              1                1  20200605.0    18.75      NaN     775.0   \n",
       "4              0                0         NaN      NaN      NaN       NaN   \n",
       "..           ...              ...         ...      ...      ...       ...   \n",
       "95             0                0  20210108.0    10.50      NaN       NaN   \n",
       "96             0                0  20210122.0    22.25      NaN       NaN   \n",
       "97             0                0  20210126.0    83.50      NaN       NaN   \n",
       "98             0                0  20210107.0    24.75      NaN       NaN   \n",
       "99             0                0  20210125.0     5.75      NaN       NaN   \n",
       "\n",
       "    leftCost  totalRealCost  totalLeftCost  \n",
       "0        NaN            NaN            NaN  \n",
       "1        NaN            NaN            NaN  \n",
       "2        NaN            NaN            NaN  \n",
       "3        NaN          775.0            NaN  \n",
       "4        NaN            NaN            NaN  \n",
       "..       ...            ...            ...  \n",
       "95       NaN            NaN            NaN  \n",
       "96       NaN            NaN            NaN  \n",
       "97       NaN            NaN            NaN  \n",
       "98       NaN            NaN            NaN  \n",
       "99       NaN            NaN            NaN  \n",
       "\n",
       "[100 rows x 25 columns]"
      ]
     },
     "execution_count": 87,
     "metadata": {},
     "output_type": "execute_result"
    }
   ],
   "source": [
    "XXX"
   ]
  },
  {
   "cell_type": "code",
   "execution_count": 88,
   "metadata": {},
   "outputs": [
    {
     "name": "stderr",
     "output_type": "stream",
     "text": [
      "<ipython-input-88-ddce7e3e561e>:23: SettingWithCopyWarning: \n",
      "A value is trying to be set on a copy of a slice from a DataFrame.\n",
      "Try using .loc[row_indexer,col_indexer] = value instead\n",
      "\n",
      "See the caveats in the documentation: https://pandas.pydata.org/pandas-docs/stable/user_guide/indexing.html#returning-a-view-versus-a-copy\n",
      "  XX[\"status\"] = XXX[\"status\"].map(status)\n",
      "<ipython-input-88-ddce7e3e561e>:24: SettingWithCopyWarning: \n",
      "A value is trying to be set on a copy of a slice from a DataFrame.\n",
      "Try using .loc[row_indexer,col_indexer] = value instead\n",
      "\n",
      "See the caveats in the documentation: https://pandas.pydata.org/pandas-docs/stable/user_guide/indexing.html#returning-a-view-versus-a-copy\n",
      "  XX[\"type\"] = XXX[\"type\"].map(tp)\n"
     ]
    },
    {
     "data": {
      "text/html": [
       "<div>\n",
       "<style scoped>\n",
       "    .dataframe tbody tr th:only-of-type {\n",
       "        vertical-align: middle;\n",
       "    }\n",
       "\n",
       "    .dataframe tbody tr th {\n",
       "        vertical-align: top;\n",
       "    }\n",
       "\n",
       "    .dataframe thead th {\n",
       "        text-align: right;\n",
       "    }\n",
       "</style>\n",
       "<table border=\"1\" class=\"dataframe\">\n",
       "  <thead>\n",
       "    <tr style=\"text-align: right;\">\n",
       "      <th></th>\n",
       "      <th>done</th>\n",
       "      <th>type</th>\n",
       "      <th>status</th>\n",
       "      <th>realWork</th>\n",
       "      <th>realCost</th>\n",
       "    </tr>\n",
       "  </thead>\n",
       "  <tbody>\n",
       "    <tr>\n",
       "      <th>0</th>\n",
       "      <td>0</td>\n",
       "      <td>1</td>\n",
       "      <td>1</td>\n",
       "      <td>0.00</td>\n",
       "      <td>0.0</td>\n",
       "    </tr>\n",
       "    <tr>\n",
       "      <th>1</th>\n",
       "      <td>0</td>\n",
       "      <td>1</td>\n",
       "      <td>1</td>\n",
       "      <td>113.50</td>\n",
       "      <td>0.0</td>\n",
       "    </tr>\n",
       "    <tr>\n",
       "      <th>2</th>\n",
       "      <td>0</td>\n",
       "      <td>1</td>\n",
       "      <td>1</td>\n",
       "      <td>0.00</td>\n",
       "      <td>0.0</td>\n",
       "    </tr>\n",
       "    <tr>\n",
       "      <th>3</th>\n",
       "      <td>1</td>\n",
       "      <td>1</td>\n",
       "      <td>4</td>\n",
       "      <td>18.75</td>\n",
       "      <td>775.0</td>\n",
       "    </tr>\n",
       "    <tr>\n",
       "      <th>4</th>\n",
       "      <td>0</td>\n",
       "      <td>1</td>\n",
       "      <td>1</td>\n",
       "      <td>0.00</td>\n",
       "      <td>0.0</td>\n",
       "    </tr>\n",
       "    <tr>\n",
       "      <th>...</th>\n",
       "      <td>...</td>\n",
       "      <td>...</td>\n",
       "      <td>...</td>\n",
       "      <td>...</td>\n",
       "      <td>...</td>\n",
       "    </tr>\n",
       "    <tr>\n",
       "      <th>95</th>\n",
       "      <td>0</td>\n",
       "      <td>1</td>\n",
       "      <td>1</td>\n",
       "      <td>10.50</td>\n",
       "      <td>0.0</td>\n",
       "    </tr>\n",
       "    <tr>\n",
       "      <th>96</th>\n",
       "      <td>0</td>\n",
       "      <td>1</td>\n",
       "      <td>1</td>\n",
       "      <td>22.25</td>\n",
       "      <td>0.0</td>\n",
       "    </tr>\n",
       "    <tr>\n",
       "      <th>97</th>\n",
       "      <td>0</td>\n",
       "      <td>1</td>\n",
       "      <td>1</td>\n",
       "      <td>83.50</td>\n",
       "      <td>0.0</td>\n",
       "    </tr>\n",
       "    <tr>\n",
       "      <th>98</th>\n",
       "      <td>0</td>\n",
       "      <td>1</td>\n",
       "      <td>1</td>\n",
       "      <td>24.75</td>\n",
       "      <td>0.0</td>\n",
       "    </tr>\n",
       "    <tr>\n",
       "      <th>99</th>\n",
       "      <td>0</td>\n",
       "      <td>1</td>\n",
       "      <td>1</td>\n",
       "      <td>5.75</td>\n",
       "      <td>0.0</td>\n",
       "    </tr>\n",
       "  </tbody>\n",
       "</table>\n",
       "<p>100 rows × 5 columns</p>\n",
       "</div>"
      ],
      "text/plain": [
       "    done  type  status  realWork  realCost\n",
       "0      0     1       1      0.00       0.0\n",
       "1      0     1       1    113.50       0.0\n",
       "2      0     1       1      0.00       0.0\n",
       "3      1     1       4     18.75     775.0\n",
       "4      0     1       1      0.00       0.0\n",
       "..   ...   ...     ...       ...       ...\n",
       "95     0     1       1     10.50       0.0\n",
       "96     0     1       1     22.25       0.0\n",
       "97     0     1       1     83.50       0.0\n",
       "98     0     1       1     24.75       0.0\n",
       "99     0     1       1      5.75       0.0\n",
       "\n",
       "[100 rows x 5 columns]"
      ]
     },
     "execution_count": 88,
     "metadata": {},
     "output_type": "execute_result"
    }
   ],
   "source": [
    "status = {\n",
    "\"recorded\": 1,\n",
    "\"qualified\": 2,\n",
    "\"in progress\": 3,\n",
    "\"done\": 4,\n",
    "\"verified\": 5,\n",
    "\"delivered\": 6,\n",
    "\"closed\": 7,\n",
    "\"re-opened\": 8,\n",
    "\"cancelled\": 9,\n",
    "\"assigned\": 10,\n",
    "\"accepted\": 11,\n",
    "\"validated\": 12,\n",
    "\"prepared\": 13,\n",
    "\"copied\": 14\n",
    "}\n",
    "tp = {\n",
    "\"Fixed Price\": 1,\n",
    "\"Administrative\": 2,\n",
    "\"Time & Materials\": 3\n",
    "}\n",
    "XX =  XXX[['done','type','status','realWork','realCost']]\n",
    "XX[\"status\"] = XXX[\"status\"].map(status)\n",
    "XX[\"type\"] = XXX[\"type\"].map(tp)\n",
    "X = XX.replace(numpy.nan,0)\n",
    "X"
   ]
  },
  {
   "cell_type": "code",
   "execution_count": 89,
   "metadata": {},
   "outputs": [
    {
     "name": "stdout",
     "output_type": "stream",
     "text": [
      "(100, 5)\n",
      "    done  type  status  realWork  realCost\n",
      "0      0     1       1      0.00       0.0\n",
      "1      0     1       1    113.50       0.0\n",
      "2      0     1       1      0.00       0.0\n",
      "3      1     1       4     18.75     775.0\n",
      "4      0     1       1      0.00       0.0\n",
      "..   ...   ...     ...       ...       ...\n",
      "95     0     1       1     10.50       0.0\n",
      "96     0     1       1     22.25       0.0\n",
      "97     0     1       1     83.50       0.0\n",
      "98     0     1       1     24.75       0.0\n",
      "99     0     1       1      5.75       0.0\n",
      "\n",
      "[100 rows x 5 columns]\n"
     ]
    }
   ],
   "source": [
    "#dimension\n",
    "print(X.shape) # (18, 6)\n",
    "#nombre d'observations\n",
    "n = X.shape[0]\n",
    "#nombre de variables\n",
    "p = X.shape[1]\n",
    "#affichage des données\n",
    "print(X)"
   ]
  },
  {
   "cell_type": "code",
   "execution_count": 90,
   "metadata": {},
   "outputs": [
    {
     "name": "stdout",
     "output_type": "stream",
     "text": [
      "0.23.2\n"
     ]
    }
   ],
   "source": [
    "#scikit-learn\n",
    "import sklearn\n",
    "#vérification de la version\n",
    "print(sklearn.__version__) # 0.19.1"
   ]
  },
  {
   "cell_type": "code",
   "execution_count": 91,
   "metadata": {},
   "outputs": [
    {
     "name": "stdout",
     "output_type": "stream",
     "text": [
      "[[-1.42857143e-01 -1.35388105e-01 -2.64549165e-01 -2.86831002e-01\n",
      "  -2.03990433e-01]\n",
      " [-1.42857143e-01 -1.35388105e-01 -2.64549165e-01 -1.97840880e-01\n",
      "  -2.03990433e-01]\n",
      " [-1.42857143e-01 -1.35388105e-01 -2.64549165e-01 -2.86831002e-01\n",
      "  -2.03990433e-01]\n",
      " [ 7.00000000e+00 -1.35388105e-01  1.67117643e+00 -2.72129991e-01\n",
      "  -1.02060978e-01]\n",
      " [-1.42857143e-01 -1.35388105e-01 -2.64549165e-01 -2.86831002e-01\n",
      "  -2.03990433e-01]\n",
      " [-1.42857143e-01 -1.35388105e-01 -2.64549165e-01 -2.41943914e-01\n",
      "  -3.95880854e-02]\n",
      " [-1.42857143e-01 -1.35388105e-01 -2.64549165e-01 -1.69614938e-01\n",
      "  -2.03990433e-01]\n",
      " [-1.42857143e-01 -1.35388105e-01 -2.64549165e-01 -2.34691415e-01\n",
      "  -2.03990433e-01]\n",
      " [-1.42857143e-01 -1.35388105e-01 -2.64549165e-01 -2.86831002e-01\n",
      "  -2.03990433e-01]\n",
      " [-1.42857143e-01 -1.35388105e-01 -2.64549165e-01 -2.81538638e-01\n",
      "  -2.03990433e-01]\n",
      " [-1.42857143e-01 -1.35388105e-01 -2.64549165e-01 -2.86831002e-01\n",
      "  -2.03990433e-01]\n",
      " [-1.42857143e-01 -1.35388105e-01  1.67117643e+00  6.16456084e+00\n",
      "   5.73093433e+00]\n",
      " [-1.42857143e-01 -1.35388105e-01 -2.64549165e-01  7.77540805e-02\n",
      "  -2.03990433e-01]\n",
      " [-1.42857143e-01 -1.35388105e-01 -2.64549165e-01  1.84848008e-01\n",
      "  -2.03990433e-01]\n",
      " [-1.42857143e-01 -1.35388105e-01 -2.64549165e-01 -2.61545262e-01\n",
      "  -2.03990433e-01]\n",
      " [-1.42857143e-01 -1.35388105e-01 -2.64549165e-01 -2.86046948e-01\n",
      "  -2.03990433e-01]\n",
      " [-1.42857143e-01 -1.35388105e-01 -2.64549165e-01 -8.64032931e-02\n",
      "   2.36607859e-01]\n",
      " [-1.42857143e-01 -1.35388105e-01 -2.64549165e-01 -2.86831002e-01\n",
      "  -2.03990433e-01]\n",
      " [-1.42857143e-01 -1.35388105e-01 -2.64549165e-01 -2.01369122e-01\n",
      "   1.97151296e-01]\n",
      " [-1.42857143e-01 -1.35388105e-01 -2.64549165e-01 -2.33888779e-02\n",
      "  -2.03990433e-01]\n",
      " [-1.42857143e-01 -1.35388105e-01 -2.64549165e-01 -1.45309266e-01\n",
      "  -2.03990433e-01]\n",
      " [-1.42857143e-01 -1.35388105e-01  1.67117643e+00  3.24260639e-01\n",
      "   6.60765917e-01]\n",
      " [-1.42857143e-01 -1.35388105e-01 -2.64549165e-01  1.38087525e+00\n",
      "  -2.03990433e-01]\n",
      " [-1.42857143e-01 -1.35388105e-01 -2.64549165e-01  1.24499376e-01\n",
      "  -2.03990433e-01]\n",
      " [-1.42857143e-01 -1.35388105e-01 -2.64549165e-01  1.26961855e-03\n",
      "  -2.03990433e-01]\n",
      " [-1.42857143e-01 -1.35388105e-01 -2.64549165e-01 -2.77022487e-01\n",
      "  -2.03990433e-01]\n",
      " [-1.42857143e-01 -1.35388105e-01 -2.64549165e-01 -1.73409759e-01\n",
      "  -2.03990433e-01]\n",
      " [-1.42857143e-01 -1.35388105e-01 -2.64549165e-01 -1.25511904e-01\n",
      "  -2.03990433e-01]\n",
      " [-1.42857143e-01 -1.35388105e-01 -2.64549165e-01  7.29036327e-01\n",
      "  -2.03990433e-01]\n",
      " [-1.42857143e-01 -1.35388105e-01  1.67117643e+00  7.10010968e+00\n",
      "   6.17153262e+00]\n",
      " [-1.42857143e-01 -1.35388105e-01  1.67117643e+00  7.01155369e-01\n",
      "  -1.02060978e-01]\n",
      " [-1.42857143e-01  4.37754872e+00  1.67117643e+00  6.54033727e-01\n",
      "  -1.97414339e-01]\n",
      " [-1.42857143e-01 -1.35388105e-01 -2.64549165e-01 -2.78402422e-01\n",
      "  -2.03990433e-01]\n",
      " [-1.42857143e-01 -1.35388105e-01 -2.64549165e-01 -2.86831002e-01\n",
      "  -2.03990433e-01]\n",
      " [-1.42857143e-01 -1.35388105e-01 -2.64549165e-01 -2.86046948e-01\n",
      "  -2.03990433e-01]\n",
      " [-1.42857143e-01 -1.35388105e-01 -2.64549165e-01 -2.79186476e-01\n",
      "  -2.03990433e-01]\n",
      " [-1.42857143e-01 -1.35388105e-01 -2.64549165e-01 -2.86831002e-01\n",
      "  -2.03990433e-01]\n",
      " [-1.42857143e-01 -1.35388105e-01 -2.64549165e-01 -2.86831002e-01\n",
      "  -2.03990433e-01]\n",
      " [-1.42857143e-01 -1.35388105e-01 -2.64549165e-01 -2.74482152e-01\n",
      "  -2.03990433e-01]\n",
      " [-1.42857143e-01 -1.35388105e-01 -2.64549165e-01 -2.78402422e-01\n",
      "  -2.03990433e-01]\n",
      " [-1.42857143e-01 -1.35388105e-01 -2.64549165e-01 -2.68327329e-01\n",
      "  -1.80974105e-01]\n",
      " [-1.42857143e-01 -1.35388105e-01 -2.64549165e-01 -2.64485465e-01\n",
      "  -1.31653400e-01]\n",
      " [-1.42857143e-01 -1.35388105e-01 -2.64549165e-01 -1.73535208e-01\n",
      "  -2.03990433e-01]\n",
      " [-1.42857143e-01 -1.35388105e-01 -2.64549165e-01 -2.62917357e-01\n",
      "  -2.03990433e-01]\n",
      " [-1.42857143e-01 -1.35388105e-01 -2.64549165e-01 -2.46742324e-01\n",
      "  -2.03990433e-01]\n",
      " [-1.42857143e-01 -1.35388105e-01 -2.64549165e-01 -2.79970530e-01\n",
      "  -2.03990433e-01]\n",
      " [-1.42857143e-01 -1.35388105e-01 -2.64549165e-01 -2.43708035e-01\n",
      "  -2.03990433e-01]\n",
      " [-1.42857143e-01 -1.35388105e-01 -2.64549165e-01 -2.63505397e-01\n",
      "  -1.64533870e-01]\n",
      " [-1.42857143e-01 -1.35388105e-01 -2.64549165e-01 -2.53508709e-01\n",
      "  -2.03990433e-01]\n",
      " [-1.42857143e-01 -1.35388105e-01 -2.64549165e-01 -2.27242902e-01\n",
      "  -2.03990433e-01]\n",
      " [-1.42857143e-01 -1.35388105e-01  8.12359510e+00 -2.74482152e-01\n",
      "  -2.03990433e-01]\n",
      " [-1.42857143e-01 -1.35388105e-01 -2.64549165e-01 -1.84214022e-01\n",
      "  -1.64533870e-01]\n",
      " [-1.42857143e-01 -1.35388105e-01 -2.64549165e-01 -2.54488777e-01\n",
      "  -2.03990433e-01]\n",
      " [-1.42857143e-01 -1.35388105e-01  1.67117643e+00  1.04076833e+00\n",
      "  -2.03990433e-01]\n",
      " [-1.42857143e-01 -1.35388105e-01 -2.64549165e-01  8.14372758e-01\n",
      "  -2.03990433e-01]\n",
      " [-1.42857143e-01 -1.35388105e-01 -2.64549165e-01 -2.47236278e-01\n",
      "  -2.03990433e-01]\n",
      " [-1.42857143e-01 -1.35388105e-01 -2.64549165e-01 -1.88824259e-01\n",
      "  -2.03990433e-01]\n",
      " [-1.42857143e-01 -1.35388105e-01 -2.64549165e-01 -2.32143240e-01\n",
      "  -2.03990433e-01]\n",
      " [-1.42857143e-01 -1.35388105e-01 -2.64549165e-01 -2.60369181e-01\n",
      "   9.19337929e-02]\n",
      " [-1.42857143e-01 -1.35388105e-01 -2.64549165e-01 -2.65073505e-01\n",
      "  -2.03990433e-01]\n",
      " [-1.42857143e-01 -1.35388105e-01 -2.64549165e-01 -2.83106746e-01\n",
      "  -2.03990433e-01]\n",
      " [-1.42857143e-01 -1.35388105e-01 -2.64549165e-01 -2.08582419e-01\n",
      "  -2.03990433e-01]\n",
      " [-1.42857143e-01  8.89048554e+00 -2.64549165e-01  3.90983630e-01\n",
      "   4.99112376e+00]\n",
      " [-1.42857143e-01 -1.35388105e-01 -2.64549165e-01 -2.61153235e-01\n",
      "  -2.03990433e-01]\n",
      " [-1.42857143e-01 -1.35388105e-01  1.67117643e+00  9.56874561e-01\n",
      "  -2.03990433e-01]\n",
      " [-1.42857143e-01 -1.35388105e-01 -2.64549165e-01 -2.51156548e-01\n",
      "  -2.03990433e-01]\n",
      " [-1.42857143e-01 -1.35388105e-01 -2.64549165e-01 -2.82518705e-01\n",
      "  -2.03990433e-01]\n",
      " [-1.42857143e-01 -1.35388105e-01 -2.64549165e-01 -2.84478840e-01\n",
      "  -2.03990433e-01]\n",
      " [-1.42857143e-01 -1.35388105e-01 -2.64549165e-01 -2.71933977e-01\n",
      "  -2.03990433e-01]\n",
      " [-1.42857143e-01 -1.35388105e-01 -2.64549165e-01 -2.86831002e-01\n",
      "  -2.03990433e-01]\n",
      " [-1.42857143e-01 -1.35388105e-01 -2.64549165e-01 -1.29040146e-01\n",
      "  -2.03990433e-01]\n",
      " [-1.42857143e-01 -1.35388105e-01 -2.64549165e-01 -1.56058645e-01\n",
      "  -2.03990433e-01]\n",
      " [-1.42857143e-01 -1.35388105e-01 -2.64549165e-01 -1.06498596e-01\n",
      "  -3.95880854e-02]\n",
      " [-1.42857143e-01 -1.35388105e-01 -2.64549165e-01 -2.23518646e-01\n",
      "  -1.90838245e-01]\n",
      " [-1.42857143e-01 -1.35388105e-01 -2.64549165e-01 -2.24106687e-01\n",
      "  -2.03990433e-01]\n",
      " [-1.42857143e-01 -1.35388105e-01 -2.64549165e-01 -2.61741276e-01\n",
      "  -2.03990433e-01]\n",
      " [-1.42857143e-01 -1.35388105e-01 -2.64549165e-01 -2.80558570e-01\n",
      "  -2.03990433e-01]\n",
      " [-1.42857143e-01 -1.35388105e-01 -2.64549165e-01 -2.73894112e-01\n",
      "  -2.03990433e-01]\n",
      " [-1.42857143e-01 -1.35388105e-01 -2.64549165e-01 -2.75854247e-01\n",
      "  -2.03990433e-01]\n",
      " [-1.42857143e-01 -1.35388105e-01 -2.64549165e-01 -2.46648237e-01\n",
      "  -2.03990433e-01]\n",
      " [-1.42857143e-01 -1.35388105e-01 -2.64549165e-01 -2.75070193e-01\n",
      "  -2.03990433e-01]\n",
      " [-1.42857143e-01 -1.35388105e-01 -2.64549165e-01 -2.20970471e-01\n",
      "  -2.03990433e-01]\n",
      " [-1.42857143e-01 -1.35388105e-01 -2.64549165e-01 -2.54292763e-01\n",
      "  -2.03990433e-01]\n",
      " [-1.42857143e-01 -1.35388105e-01 -2.64549165e-01 -2.73110058e-01\n",
      "  -2.03990433e-01]\n",
      " [-1.42857143e-01 -1.35388105e-01 -2.64549165e-01 -2.71149923e-01\n",
      "  -2.03990433e-01]\n",
      " [-1.42857143e-01 -1.35388105e-01 -2.64549165e-01 -2.42923981e-01\n",
      "  -2.03990433e-01]\n",
      " [-1.42857143e-01 -1.35388105e-01 -2.64549165e-01 -1.21591634e-01\n",
      "  -2.03990433e-01]\n",
      " [-1.42857143e-01 -1.35388105e-01 -2.64549165e-01 -2.86831002e-01\n",
      "  -2.03990433e-01]\n",
      " [-1.42857143e-01 -1.35388105e-01 -2.64549165e-01 -2.73698098e-01\n",
      "  -2.03990433e-01]\n",
      " [ 7.00000000e+00 -1.35388105e-01  2.31641830e+00 -2.26458849e-01\n",
      "  -2.03990433e-01]\n",
      " [-1.42857143e-01 -1.35388105e-01 -2.64549165e-01 -2.54880804e-01\n",
      "  -2.03990433e-01]\n",
      " [-1.42857143e-01 -1.35388105e-01 -2.64549165e-01 -2.18618309e-01\n",
      "  -2.03990433e-01]\n",
      " [-1.42857143e-01 -1.35388105e-01 -2.64549165e-01 -2.86831002e-01\n",
      "  -2.03990433e-01]\n",
      " [-1.42857143e-01 -1.35388105e-01 -2.64549165e-01 -2.46256211e-01\n",
      "  -2.03990433e-01]\n",
      " [-1.42857143e-01 -1.35388105e-01 -2.64549165e-01 -2.19402363e-01\n",
      "  -3.95880854e-02]\n",
      " [-1.42857143e-01 -1.35388105e-01 -2.64549165e-01 -2.78598436e-01\n",
      "  -2.03990433e-01]\n",
      " [-1.42857143e-01 -1.35388105e-01 -2.64549165e-01 -2.69385802e-01\n",
      "  -2.03990433e-01]\n",
      " [-1.42857143e-01 -1.35388105e-01 -2.64549165e-01 -2.21362498e-01\n",
      "  -2.03990433e-01]\n",
      " [-1.42857143e-01 -1.35388105e-01 -2.64549165e-01 -2.67425667e-01\n",
      "  -2.03990433e-01]\n",
      " [-1.42857143e-01 -1.35388105e-01 -2.64549165e-01 -2.82322692e-01\n",
      "  -2.03990433e-01]]\n"
     ]
    }
   ],
   "source": [
    "#classe pour standardisation\n",
    "from sklearn.preprocessing import StandardScaler\n",
    "#instanciation\n",
    "sc = StandardScaler()\n",
    "#transformation – centrage-réduction\n",
    "Z = sc.fit_transform(X)\n",
    "print(Z)"
   ]
  },
  {
   "cell_type": "code",
   "execution_count": 92,
   "metadata": {},
   "outputs": [
    {
     "name": "stdout",
     "output_type": "stream",
     "text": [
      "[-2.16493490e-17 -9.76996262e-17  3.99680289e-17  1.55431223e-17\n",
      "  6.21724894e-17]\n"
     ]
    }
   ],
   "source": [
    "#moyenne\n",
    "print(numpy.mean(Z,axis=0))"
   ]
  },
  {
   "cell_type": "code",
   "execution_count": 93,
   "metadata": {},
   "outputs": [
    {
     "name": "stdout",
     "output_type": "stream",
     "text": [
      "[1. 1. 1. 1. 1.]\n"
     ]
    }
   ],
   "source": [
    "#écart-type\n",
    "print(numpy.std(Z,axis=0,ddof=0))"
   ]
  },
  {
   "cell_type": "code",
   "execution_count": 94,
   "metadata": {},
   "outputs": [],
   "source": [
    "#classe pour l'ACP\n",
    "from sklearn.decomposition import PCA\n",
    "#instanciation\n",
    "acp = PCA(svd_solver='full')"
   ]
  },
  {
   "cell_type": "code",
   "execution_count": 95,
   "metadata": {},
   "outputs": [
    {
     "name": "stdout",
     "output_type": "stream",
     "text": [
      "PCA(svd_solver='full')\n"
     ]
    }
   ],
   "source": [
    "#affichage des paramètres\n",
    "print(acp)"
   ]
  },
  {
   "cell_type": "code",
   "execution_count": 98,
   "metadata": {},
   "outputs": [
    {
     "name": "stdout",
     "output_type": "stream",
     "text": [
      "5\n"
     ]
    }
   ],
   "source": [
    "#calculs\n",
    "coord = acp.fit_transform(Z)\n",
    "#nombre de composantes calculées\n",
    "print(acp.n_components_) # 5\n"
   ]
  },
  {
   "cell_type": "code",
   "execution_count": 99,
   "metadata": {},
   "outputs": [
    {
     "name": "stdout",
     "output_type": "stream",
     "text": [
      "[2.10882381 1.25894483 0.9613152  0.64755187 0.07386935]\n"
     ]
    }
   ],
   "source": [
    "#variance expliquée\n",
    "print(acp.explained_variance_)"
   ]
  },
  {
   "cell_type": "code",
   "execution_count": 100,
   "metadata": {},
   "outputs": [
    {
     "name": "stdout",
     "output_type": "stream",
     "text": [
      "[2.08773557 1.24635538 0.95170204 0.64107635 0.07313065]\n"
     ]
    }
   ],
   "source": [
    "#valeur corrigée\n",
    "eigval = (n-1)/n*acp.explained_variance_\n",
    "print(eigval)"
   ]
  },
  {
   "cell_type": "code",
   "execution_count": 101,
   "metadata": {},
   "outputs": [
    {
     "name": "stdout",
     "output_type": "stream",
     "text": [
      "[2.08773557 1.24635538 0.95170204 0.64107635 0.07313065]\n"
     ]
    }
   ],
   "source": [
    "#ou bien en passant par les valeurs singulières\n",
    "print(acp.singular_values_**2/n)"
   ]
  },
  {
   "cell_type": "code",
   "execution_count": 102,
   "metadata": {},
   "outputs": [
    {
     "name": "stdout",
     "output_type": "stream",
     "text": [
      "[0.41754711 0.24927108 0.19034041 0.12821527 0.01462613]\n"
     ]
    }
   ],
   "source": [
    "#proportion de variance expliquée\n",
    "print(acp.explained_variance_ratio_)"
   ]
  },
  {
   "cell_type": "code",
   "execution_count": 103,
   "metadata": {},
   "outputs": [
    {
     "data": {
      "image/png": "[encoded data removed]",
      "text/plain": [
       "<Figure size 432x288 with 1 Axes>"
      ]
     },
     "metadata": {
      "needs_background": "light"
     },
     "output_type": "display_data"
    }
   ],
   "source": [
    "#scree plot\n",
    "plt.plot(numpy.arange(1,p+1),eigval)\n",
    "plt.title(\"Scree plot\")\n",
    "plt.ylabel(\"Eigen values\")\n",
    "plt.xlabel(\"Factor number\")\n",
    "plt.show()"
   ]
  },
  {
   "cell_type": "code",
   "execution_count": 104,
   "metadata": {},
   "outputs": [
    {
     "data": {
      "image/png": "[encoded data removed]",
      "text/plain": [
       "<Figure size 432x288 with 1 Axes>"
      ]
     },
     "metadata": {
      "needs_background": "light"
     },
     "output_type": "display_data"
    }
   ],
   "source": [
    "#cumul de variance expliquée\n",
    "plt.plot(numpy.arange(1,p+1),numpy.cumsum(acp.explained_variance_ratio_))\n",
    "plt.title(\"Explained variance vs. # of factors\")\n",
    "plt.ylabel(\"Cumsum explained variance ratio\")\n",
    "plt.xlabel(\"Factor number\")\n",
    "plt.show()"
   ]
  },
  {
   "cell_type": "code",
   "execution_count": 105,
   "metadata": {},
   "outputs": [],
   "source": [
    "#seuils pour test des bâtons brisés\n",
    "bs = 1/numpy.arange(p,0,-1)\n",
    "bs = numpy.cumsum(bs)\n",
    "bs = bs[::-1]"
   ]
  },
  {
   "cell_type": "code",
   "execution_count": 106,
   "metadata": {},
   "outputs": [
    {
     "name": "stdout",
     "output_type": "stream",
     "text": [
      "   Val.Propre    Seuils\n",
      "0    2.087736  2.283333\n",
      "1    1.246355  1.283333\n",
      "2    0.951702  0.783333\n",
      "3    0.641076  0.450000\n",
      "4    0.073131  0.200000\n"
     ]
    }
   ],
   "source": [
    "#test des bâtons brisés\n",
    "print(pandas.DataFrame({'Val.Propre':eigval,'Seuils':bs}))"
   ]
  },
  {
   "cell_type": "code",
   "execution_count": 107,
   "metadata": {},
   "outputs": [
    {
     "data": {
      "image/png": "[encoded data removed]",
      "text/plain": [
       "<Figure size 864x864 with 1 Axes>"
      ]
     },
     "metadata": {
      "needs_background": "light"
     },
     "output_type": "display_data"
    }
   ],
   "source": [
    "#positionnement des individus dans le premier plan\n",
    "fig, axes = plt.subplots(figsize=(12,12))\n",
    "axes.set_xlim(-6,6) #même limites en abscisse\n",
    "axes.set_ylim(-6,6) #et en ordonnée\n",
    "#placement des étiquettes des observations\n",
    "for i in range(n):\n",
    " plt.annotate(X.index[i],(coord[i,0],coord[i,1]))\n",
    "#ajouter les axes\n",
    "plt.plot([-6,6],[0,0],color='silver',linestyle='-',linewidth=1)\n",
    "plt.plot([0,0],[-6,6],color='silver',linestyle='-',linewidth=1)\n",
    "#affichage\n",
    "plt.show()"
   ]
  },
  {
   "cell_type": "code",
   "execution_count": 108,
   "metadata": {},
   "outputs": [
    {
     "name": "stdout",
     "output_type": "stream",
     "text": [
      "    ID        d_i\n",
      "0    0   0.232608\n",
      "1    1   0.189477\n",
      "2    2   0.232608\n",
      "3    3  51.895632\n",
      "4    4   0.232608\n",
      "..  ..        ...\n",
      "95  95   0.227954\n",
      "96  96   0.222905\n",
      "97  97   0.199338\n",
      "98  98   0.221853\n",
      "99  99   0.230043\n",
      "\n",
      "[100 rows x 2 columns]\n"
     ]
    }
   ],
   "source": [
    "#contribution des individus dans l'inertie totale\n",
    "di = numpy.sum(Z**2,axis=1)\n",
    "print(pandas.DataFrame({'ID':X.index,'d_i':di}))"
   ]
  },
  {
   "cell_type": "code",
   "execution_count": 109,
   "metadata": {},
   "outputs": [
    {
     "name": "stdout",
     "output_type": "stream",
     "text": [
      "    id    COS2_1    COS2_2\n",
      "0    0  0.833322  0.141940\n",
      "1    1  0.787085  0.182010\n",
      "2    2  0.833322  0.141940\n",
      "3    3  0.005936  0.746618\n",
      "4    4  0.833322  0.141940\n",
      "..  ..       ...       ...\n",
      "95  95  0.831120  0.145429\n",
      "96  96  0.828215  0.149401\n",
      "97  97  0.804572  0.171041\n",
      "98  98  0.827534  0.150254\n",
      "99  99  0.832161  0.143844\n",
      "\n",
      "[100 rows x 3 columns]\n"
     ]
    }
   ],
   "source": [
    "#qualité de représentation des individus - COS2\n",
    "cos2 = coord**2\n",
    "for j in range(p):\n",
    " cos2[:,j] = cos2[:,j]/di\n",
    "print(pandas.DataFrame({'id':X.index,'COS2_1':cos2[:,0],'COS2_2':cos2[:,1]}))"
   ]
  },
  {
   "cell_type": "code",
   "execution_count": 110,
   "metadata": {},
   "outputs": [
    {
     "name": "stdout",
     "output_type": "stream",
     "text": [
      "[1. 1. 1. 1. 1. 1. 1. 1. 1. 1. 1. 1. 1. 1. 1. 1. 1. 1. 1. 1. 1. 1. 1. 1.\n",
      " 1. 1. 1. 1. 1. 1. 1. 1. 1. 1. 1. 1. 1. 1. 1. 1. 1. 1. 1. 1. 1. 1. 1. 1.\n",
      " 1. 1. 1. 1. 1. 1. 1. 1. 1. 1. 1. 1. 1. 1. 1. 1. 1. 1. 1. 1. 1. 1. 1. 1.\n",
      " 1. 1. 1. 1. 1. 1. 1. 1. 1. 1. 1. 1. 1. 1. 1. 1. 1. 1. 1. 1. 1. 1. 1. 1.\n",
      " 1. 1. 1. 1.]\n"
     ]
    }
   ],
   "source": [
    "#vérifions la théorie - somme en ligne des cos2 = 1\n",
    "print(numpy.sum(cos2,axis=1))"
   ]
  },
  {
   "cell_type": "code",
   "execution_count": 111,
   "metadata": {},
   "outputs": [
    {
     "name": "stdout",
     "output_type": "stream",
     "text": [
      "    id     CTR_1     CTR_2\n",
      "0    0  0.000928  0.000265\n",
      "1    1  0.000714  0.000277\n",
      "2    2  0.000928  0.000265\n",
      "3    3  0.001475  0.310876\n",
      "4    4  0.000928  0.000265\n",
      "..  ..       ...       ...\n",
      "95  95  0.000907  0.000266\n",
      "96  96  0.000884  0.000267\n",
      "97  97  0.000768  0.000274\n",
      "98  98  0.000879  0.000267\n",
      "99  99  0.000917  0.000265\n",
      "\n",
      "[100 rows x 3 columns]\n"
     ]
    }
   ],
   "source": [
    "#contributions aux axes\n",
    "ctr = coord**2\n",
    "for j in range(p):\n",
    " ctr[:,j] = ctr[:,j]/(n*eigval[j])\n",
    "\n",
    "print(pandas.DataFrame({'id':X.index,'CTR_1':ctr[:,0],'CTR_2':ctr[:,1]}))"
   ]
  },
  {
   "cell_type": "code",
   "execution_count": 112,
   "metadata": {},
   "outputs": [
    {
     "name": "stdout",
     "output_type": "stream",
     "text": [
      "[1. 1. 1. 1. 1.]\n"
     ]
    }
   ],
   "source": [
    "#vérifions la théorie\n",
    "print(numpy.sum(ctr,axis=0))"
   ]
  },
  {
   "cell_type": "code",
   "execution_count": 113,
   "metadata": {},
   "outputs": [
    {
     "name": "stdout",
     "output_type": "stream",
     "text": [
      "[[ 0.04357782  0.31646452  0.31422389  0.60782321  0.655565  ]\n",
      " [ 0.73658346 -0.25373462  0.60097237 -0.04496843 -0.17283979]\n",
      " [ 0.30329613  0.85027189 -0.04799869 -0.42733525 -0.01139665]\n",
      " [-0.60179537  0.15922788  0.7294458  -0.18653729 -0.21354503]\n",
      " [ 0.03741084  0.29521712 -0.07550167  0.64118422 -0.70329906]]\n"
     ]
    }
   ],
   "source": [
    "#le champ components_ de l'objet ACP\n",
    "print(acp.components_)"
   ]
  },
  {
   "cell_type": "code",
   "execution_count": 114,
   "metadata": {},
   "outputs": [],
   "source": [
    "#racine carrée des valeurs propres\n",
    "sqrt_eigval = numpy.sqrt(eigval)"
   ]
  },
  {
   "cell_type": "code",
   "execution_count": 115,
   "metadata": {},
   "outputs": [
    {
     "name": "stdout",
     "output_type": "stream",
     "text": [
      "[[ 0.06296558  0.82232389  0.2958812  -0.48184096  0.01011689]\n",
      " [ 0.45725953 -0.28327006  0.82948459  0.12748937  0.07983462]\n",
      " [ 0.45402206  0.67092728 -0.04682522  0.58404715 -0.02041767]\n",
      " [ 0.87824367 -0.05020288 -0.41688783 -0.14935527  0.1733934 ]\n",
      " [ 0.94722577 -0.19295884 -0.01111803 -0.17097962 -0.19019091]]\n"
     ]
    }
   ],
   "source": [
    "#corrélation des variables avec les axes\n",
    "corvar = numpy.zeros((p,p))\n",
    "for k in range(p):\n",
    " corvar[:,k] = acp.components_[k,:] * sqrt_eigval[k]\n",
    "\n",
    "#afficher la matrice des corrélations variables x facteurs\n",
    "print(corvar)"
   ]
  },
  {
   "cell_type": "code",
   "execution_count": 116,
   "metadata": {},
   "outputs": [
    {
     "name": "stdout",
     "output_type": "stream",
     "text": [
      "         id     COR_1     COR_2\n",
      "0      done  0.062966  0.822324\n",
      "1      type  0.457260 -0.283270\n",
      "2    status  0.454022  0.670927\n",
      "3  realWork  0.878244 -0.050203\n",
      "4  realCost  0.947226 -0.192959\n"
     ]
    }
   ],
   "source": [
    "#on affiche pour les deux premiers axes\n",
    "print(pandas.DataFrame({'id':X.columns,'COR_1':corvar[:,0],'COR_2':corvar[:,1]}))"
   ]
  },
  {
   "cell_type": "code",
   "execution_count": 117,
   "metadata": {},
   "outputs": [
    {
     "data": {
      "image/png": "[encoded data removed]",
      "text/plain": [
       "<Figure size 576x576 with 1 Axes>"
      ]
     },
     "metadata": {
      "needs_background": "light"
     },
     "output_type": "display_data"
    }
   ],
   "source": [
    "#cercle des corrélations\n",
    "fig, axes = plt.subplots(figsize=(8,8))\n",
    "axes.set_xlim(-1,1)\n",
    "axes.set_ylim(-1,1)\n",
    "#affichage des étiquettes (noms des variables)\n",
    "for j in range(p):\n",
    " plt.annotate(X.columns[j],(corvar[j,0],corvar[j,1]))\n",
    "\n",
    "#ajouter les axes\n",
    "plt.plot([-1,1],[0,0],color='silver',linestyle='-',linewidth=1)\n",
    "plt.plot([0,0],[-1,1],color='silver',linestyle='-',linewidth=1)\n",
    "#ajouter un cercle\n",
    "cercle = plt.Circle((0,0),1,color='blue',fill=False)\n",
    "axes.add_artist(cercle)\n",
    "#affichage\n",
    "plt.show()\n"
   ]
  },
  {
   "cell_type": "code",
   "execution_count": null,
   "metadata": {},
   "outputs": [],
   "source": []
  },
  {
   "cell_type": "code",
   "execution_count": null,
   "metadata": {},
   "outputs": [],
   "source": []
  },
  {
   "cell_type": "code",
   "execution_count": null,
   "metadata": {},
   "outputs": [],
   "source": []
  },
  {
   "cell_type": "code",
   "execution_count": null,
   "metadata": {},
   "outputs": [],
   "source": []
  }
 ],
 "metadata": {
  "kernelspec": {
   "display_name": "Python 3",
   "language": "python",
   "name": "python3"
  },
  "language_info": {
   "codemirror_mode": {
    "name": "ipython",
    "version": 3
   },
   "file_extension": ".py",
   "mimetype": "text/x-python",
   "name": "python",
   "nbconvert_exporter": "python",
   "pygments_lexer": "ipython3",
   "version": "3.8.8"
  }
 },
 "nbformat": 4,
 "nbformat_minor": 4
}
